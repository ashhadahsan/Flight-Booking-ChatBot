{
 "cells": [
  {
   "cell_type": "code",
   "execution_count": 11,
   "metadata": {},
   "outputs": [],
   "source": [
    "import yaml\n",
    "\n",
    "# Load the nlu YAML file\n",
    "with open('nlu.yml') as f:\n",
    "    nlu_data = yaml.safe_load(f)\n",
    "\n",
    "# Extract the examples for each intent\n",
    "nlu_examples = {}\n",
    "for intent in nlu_data['nlu']:\n",
    "    if 'examples' in intent:\n",
    "        nlu_examples[intent['intent']] = intent['examples'].split('\\n- ')[1:]\n",
    "\n",
    "# Convert the examples to tuples for ChatterBot\n",
    "nlu_tuples = []\n",
    "for intent, examples in nlu_examples.items():\n",
    "    for example in examples:\n",
    "        nlu_tuples.append((example, intent))\n",
    "\n",
    "# Load the stories YAML file\n",
    "with open('stories.yml') as f:\n",
    "    stories_data = yaml.safe_load(f)\n",
    "\n",
    "# Convert the stories to tuples for ChatterBot\n",
    "stories_tuples = []\n",
    "for story in stories_data['stories']:\n",
    "    steps = []\n",
    "    for step in story['steps']:\n",
    "        if 'intent' in step:\n",
    "            steps.append((step['intent'], step.get('entities', {})))\n",
    "    stories_tuples.append(steps)\n"
   ]
  },
  {
   "cell_type": "code",
   "execution_count": 24,
   "metadata": {},
   "outputs": [
    {
     "name": "stdout",
     "output_type": "stream",
     "text": [
      "result2:\n",
      "{   'alternative': [{'confidence': 0.88687539, 'transcript': 'hello'}],\n",
      "    'final': True}\n"
     ]
    }
   ],
   "source": [
    "import speech_recognition as sr\n",
    "from constants import *\n",
    "r = sr.Recognizer()\n",
    "r.energy_threshold = energy\n",
    "r.pause_threshold = pause\n",
    "r.dynamic_energy_threshold = dynamic_energy\n",
    "with sr.AudioFile('a2d27928-c34c-11ed-be1b-ace2d37d5b45.wav') as source:\n",
    "    audio_data = r.record(source)\n",
    "text = r.recognize_google(audio_data)"
   ]
  },
  {
   "cell_type": "code",
   "execution_count": 6,
   "metadata": {},
   "outputs": [
    {
     "name": "stdout",
     "output_type": "stream",
     "text": [
      "Bot: Hello user, welcome to infinite possibilities. How can I help you today?\n"
     ]
    }
   ],
   "source": [
    "user_input = \"Hi\"\n",
    "bot_response = bot.get_response(user_input)\n",
    "print(\"Bot:\", bot_response)"
   ]
  },
  {
   "cell_type": "code",
   "execution_count": 13,
   "metadata": {},
   "outputs": [],
   "source": [
    "from chatterbot import ChatBot\n",
    "from training import *\n",
    "from chatterbot.trainers import ListTrainer\n",
    "\n",
    "def load_booking_chatbot():\n",
    "    bot = ChatBot(\"BookingBot\")\n",
    "\n",
    "    # Create a ChatterBotCorpusTrainer for greetings and goodbyes\n",
    "    corpus_trainer = ListTrainer(bot)\n",
    "    corpus_trainer.train(greetings)\n",
    "    return bot\n"
   ]
  },
  {
   "cell_type": "code",
   "execution_count": 14,
   "metadata": {},
   "outputs": [
    {
     "name": "stdout",
     "output_type": "stream",
     "text": [
      "List Trainer: [####################] 100%\n"
     ]
    },
    {
     "data": {
      "text/plain": [
       "<Statement text:I want airline tickets please>"
      ]
     },
     "execution_count": 14,
     "metadata": {},
     "output_type": "execute_result"
    }
   ],
   "source": [
    "bot=load_booking_chatbot()\n",
    "f=bot.get_response(\"I am travelling to Chicago\")\n",
    "f"
   ]
  },
  {
   "cell_type": "code",
   "execution_count": 12,
   "metadata": {},
   "outputs": [],
   "source": [
    "from gtts import gTTS\n",
    "response = 'Hello'\n",
    "language = \"en-us\"\n",
    "\n",
    "tts = gTTS(text=response, lang=language, slow=False)"
   ]
  },
  {
   "cell_type": "code",
   "execution_count": 19,
   "metadata": {},
   "outputs": [],
   "source": [
    "tts.save(\"hello.mp3\")"
   ]
  },
  {
   "cell_type": "code",
   "execution_count": 1,
   "metadata": {},
   "outputs": [
    {
     "ename": "FileNotFoundError",
     "evalue": "[Errno 2] No such file or directory: '../audio/hello.mp3'",
     "output_type": "error",
     "traceback": [
      "\u001b[1;31m---------------------------------------------------------------------------\u001b[0m",
      "\u001b[1;31mFileNotFoundError\u001b[0m                         Traceback (most recent call last)",
      "\u001b[1;32m~\\AppData\\Local\\Temp\\ipykernel_2684\\2940536736.py\u001b[0m in \u001b[0;36m<module>\u001b[1;34m\u001b[0m\n\u001b[0;32m      4\u001b[0m \u001b[1;33m\u001b[0m\u001b[0m\n\u001b[0;32m      5\u001b[0m \u001b[1;33m\u001b[0m\u001b[0m\n\u001b[1;32m----> 6\u001b[1;33m files = {'audio': ('../audio/hello.mp3', open('../audio/hello.mp3', 'rb'), 'audio/mp3'),\n\u001b[0m\u001b[0;32m      7\u001b[0m          }\n\u001b[0;32m      8\u001b[0m \u001b[0mdata\u001b[0m\u001b[1;33m=\u001b[0m\u001b[1;33m{\u001b[0m\u001b[1;34m\"username\"\u001b[0m\u001b[1;33m:\u001b[0m\u001b[1;34m\"usernamee\"\u001b[0m\u001b[1;33m,\u001b[0m\u001b[1;34m\"current_location\"\u001b[0m\u001b[1;33m:\u001b[0m\u001b[1;34m\"loca\"\u001b[0m\u001b[1;33m}\u001b[0m\u001b[1;33m\u001b[0m\u001b[1;33m\u001b[0m\u001b[0m\n",
      "\u001b[1;31mFileNotFoundError\u001b[0m: [Errno 2] No such file or directory: '../audio/hello.mp3'"
     ]
    }
   ],
   "source": [
    "import requests\n",
    "\n",
    "# Open the audio file\n",
    "\n",
    "\n",
    "files = {'audio': ('', open('../audio/hello.mp3', 'rb'), 'audio/mp3'),\n",
    "         }\n",
    "data={\"username\":\"usernamee\",\"current_location\":\"loca\"}\n",
    "# Send the audio file to the chatbot endpoint\n",
    "response = requests.post(\"http://127.0.0.1:8000//api/bookingChat\", files=files,data=data)\n",
    "\n",
    "# Print the JSON response\n",
    "print(response.json())"
   ]
  },
  {
   "cell_type": "code",
   "execution_count": 3,
   "metadata": {},
   "outputs": [
    {
     "data": {
      "text/plain": [
       "'g:\\\\Client\\\\pneuma-ai'"
      ]
     },
     "execution_count": 3,
     "metadata": {},
     "output_type": "execute_result"
    }
   ],
   "source": [
    "import os\n",
    "os.getcwd()"
   ]
  },
  {
   "cell_type": "code",
   "execution_count": 44,
   "metadata": {},
   "outputs": [],
   "source": [
    "import dateparser\n",
    "sentence=\"I want to go to Islamabad from New Delhi on 14th July 2002 and get back on 20th July. I have two kids and two adults\""
   ]
  },
  {
   "cell_type": "code",
   "execution_count": 45,
   "metadata": {},
   "outputs": [],
   "source": [
    "import spacy\n",
    "nlp = spacy.load('en_core_web_sm')\n",
    "doc = nlp(sentence)\n",
    "data=[]\n",
    "for ent in doc.ents:\n",
    "    data.append({\"label\":ent.label_, \"value\":ent.text})"
   ]
  },
  {
   "cell_type": "code",
   "execution_count": 47,
   "metadata": {},
   "outputs": [
    {
     "data": {
      "text/html": [
       "<div>\n",
       "<style scoped>\n",
       "    .dataframe tbody tr th:only-of-type {\n",
       "        vertical-align: middle;\n",
       "    }\n",
       "\n",
       "    .dataframe tbody tr th {\n",
       "        vertical-align: top;\n",
       "    }\n",
       "\n",
       "    .dataframe thead th {\n",
       "        text-align: right;\n",
       "    }\n",
       "</style>\n",
       "<table border=\"1\" class=\"dataframe\">\n",
       "  <thead>\n",
       "    <tr style=\"text-align: right;\">\n",
       "      <th></th>\n",
       "      <th>label</th>\n",
       "      <th>value</th>\n",
       "    </tr>\n",
       "  </thead>\n",
       "  <tbody>\n",
       "    <tr>\n",
       "      <th>0</th>\n",
       "      <td>GPE</td>\n",
       "      <td>Islamabad</td>\n",
       "    </tr>\n",
       "    <tr>\n",
       "      <th>1</th>\n",
       "      <td>GPE</td>\n",
       "      <td>New Delhi</td>\n",
       "    </tr>\n",
       "    <tr>\n",
       "      <th>2</th>\n",
       "      <td>DATE</td>\n",
       "      <td>14th July 2002</td>\n",
       "    </tr>\n",
       "    <tr>\n",
       "      <th>3</th>\n",
       "      <td>DATE</td>\n",
       "      <td>20th July</td>\n",
       "    </tr>\n",
       "    <tr>\n",
       "      <th>4</th>\n",
       "      <td>CARDINAL</td>\n",
       "      <td>two</td>\n",
       "    </tr>\n",
       "    <tr>\n",
       "      <th>5</th>\n",
       "      <td>CARDINAL</td>\n",
       "      <td>two</td>\n",
       "    </tr>\n",
       "  </tbody>\n",
       "</table>\n",
       "</div>"
      ],
      "text/plain": [
       "      label           value\n",
       "0       GPE       Islamabad\n",
       "1       GPE       New Delhi\n",
       "2      DATE  14th July 2002\n",
       "3      DATE       20th July\n",
       "4  CARDINAL             two\n",
       "5  CARDINAL             two"
      ]
     },
     "execution_count": 47,
     "metadata": {},
     "output_type": "execute_result"
    }
   ],
   "source": [
    "import pandas as pd\n",
    "df=pd.DataFrame(data=data)\n",
    "df"
   ]
  },
  {
   "cell_type": "code",
   "execution_count": 43,
   "metadata": {},
   "outputs": [
    {
     "data": {
      "text/plain": [
       "datetime.datetime(2002, 7, 14, 0, 0)"
      ]
     },
     "execution_count": 43,
     "metadata": {},
     "output_type": "execute_result"
    }
   ],
   "source": [
    "dateparser.parse(df[df.label=='DATE']['value'].values.tolist()[0])"
   ]
  },
  {
   "cell_type": "code",
   "execution_count": 6,
   "metadata": {},
   "outputs": [],
   "source": [
    "import pandas as pd\n",
    "df=pd.read_csv(\"airport-codes.csv\")"
   ]
  },
  {
   "cell_type": "code",
   "execution_count": 23,
   "metadata": {},
   "outputs": [],
   "source": [
    "df=df.dropna(subset=['iata_code'])\n"
   ]
  },
  {
   "cell_type": "code",
   "execution_count": 32,
   "metadata": {},
   "outputs": [],
   "source": [
    "df['municipality']=df['municipality'].astype(str)\n",
    "cities=df['municipality'].unique().tolist()"
   ]
  },
  {
   "cell_type": "code",
   "execution_count": 34,
   "metadata": {},
   "outputs": [
    {
     "data": {
      "text/plain": [
       "\"Utirik Island, Key Largo, Pilot Station, Crested Butte, Johnson City, Palmer, Loring, Nunapitchuk, Port Alice, Icy Bay, Port Protection, Kalakaket Creek, Dunsmuir, Whitmore, Ellamar, Lime Village, Hogatza, Oaktown, Telida, Brazoria, Entrance Island, False Island, Blakely Island, Kenai, Bradford, Versailles, Golden Horn Lodge, Atmautluak, Livengood, Pedro Bay, Ouzinkie, Tununak, Evadale, Hyder, Tokeen, Aleknagik, Ketchikan, Naknek, Katmai National Park, Belle Chasse, San Pedro, New York, Blackwell, Yes Bay, Center Island, Tatitlek, Corolla, Stuart Island, Fort Bragg, Poulsbo, Los Angeles, Meyers Chuck, Alexandria Bay, Lubbock, East Sound, Whale Pass, Chuathbaluk, Ugashik, Marlboro, Essington, Levelock, Saginaw Bay, Tuntutuliak, Twin Hills, Chignik Lake, Adado, Atkamba Mission, Abau, Andorra La Vella, Andekombe, El Daein, Jebel Ali, nan, Algeciras, Aseki, Chifeng, Orūzgān, Ampara, Bila, Arona, Atoifi, Barakoma, Liangia, Angoram, Auki, Anua, Ballalae, Fera Island, Honiara, Mbambanakira, Kirakira, Santa Cruz/Graciosa Bay/Luova, Gizo, Stirling Island, Parasi, Ontong Java Atoll, Rennell Island, Sege, Santa Ana Island, Marau, Suavanao, Yandina, Kagua, Kagau Island, Kolombangara Island, Kwailabesi, Star Harbor, Ringi Cove, Ramata, Tulaghi Island, Argyle Downs, Aba, Amchitka Island, Ambatolahy, Aiome, Aiambak, Bigatyelang Island, Chena Hot Springs, Solomon, Herendeen Bay, Taylor, Tikchik, Tuxekan Island, Lonely, Candle, Amook Bay, Egegik, Boswell Bay, ZaKouma, Tuskegee, Lazy Bay, Puerto Peñasco, Alto Molocue, Amanab, Anhua Island, Yaren District, Angus Downs Station, Cangamba, Dirico, Lumbala, Jamba, Capanda, Ndalatandos, Agevairu, Abou-Deïa, April River, Girdwood, Bragado, Caleta Olivia, Charata, General Villegas, Los Menucos, Presidencia Roque Sáenz Peña, Valcheta, Sunchales, Carmen de Patagones, Sarmiento, Asbury Park, Tau Village, Namatanai, Aitape, Lady Elliot Island, Agnew, Alroy Downs, Baniyala, Coolibah, Coorabie, Carlton Hill, Cresswell Downs, Diamantina Lakes, Hayman Island, Helenvale, Kimberley Downs, Kulgera, Miranda Downs, Myroodah, Orchid Beach, Peppimenarti, Rockhampton Downs, Sturt Creek, Shaw River, Tom Price, Torwood, Springvale, Aua Island, Ambunti, Aumo, Wonga Wongué Presidential Reserve, Awar, Bayanhot, Buka Island, Biaru, Kundiawa, Munduku, Kondobol, Dinangat, Castori Islets, Daru, Embessa, Yellow River Mission, Eliptamin, Engati, Emo Mission, Erume, Demgulu, Feramin, Frieda River, Fuma, Goronka, Guari, Au, Gurney, Gusap, Popondetta, Gasuke, Habi, Heiweni, Honinabi, Hoskins, Haivaro, Imane, Kungim, Imonda, Ialibu, Garove Island, Yongai, Losuia, Kopiago, Kiunga, Kanainj, Kikori, Kerema, Kar Kar Island, Kieta, Kuri, Kavieng, Londolovit, Lab Lab Mission, Lowai, Leron Plains, Lese, Long Island, Abu Dhabi, Manari, Morobe, Madang, Mount Hagen, Mougulu, Mendi, Manus Island, Moro, Misima Island, Marawaka, Gwarawon, Negarbo, Manguna, Kasonombe, Namane, Nambaiyufa, Lae, Konge, Oksapmin, Komako, Komaio, Koroba, Maitanakunai, Pangoa, Pangia, Mapoda, Pumani, Port Moresby, Sopu, Sialum, Karimui, Maramuni, May River, Simberi Island, Sila Mission, Sabah, Simbai, Selbang, Sepik Plains, Sauren, Masa, Tari, Tabubil, Tapini, Tokua, Tekin, Teptep, Tsewi, Tarakbits, Tawa, Tekadu, Aiyura Valley, Umba, Uroubi, Upiara, Uvol, Talasea, Torembi, Vanimo, Tonu, Wabo, Wavoi Falls, Wewak, Wonenara, Wakunai, Wasu, Fatima Mission, Wau, Yeva, Sim, Weam, Pottuvil, Yalumet, Yasuru, Amityville, Wasum, Baku, Supai Village, Unea Island, Nabai, Branson, Crestone, Bambu, Benguera Island, Bickerton Island, Willmar, Bereina Mission, Berlin, Haskovo, Yambol, Aasiaat, Alluitsup Paa, Attu, Narsarsuaq, Qasigiannguit, Neerlerit Inaat, Pituffik, Eqalugaarsuit, Nuuk, Qeqertarsuaq Airport, Iginniarfik, Ikerassaarsuk, Ilimanaq, Ikamiut, Qaqortoq, Ilulissat, Kangaatsiaq, Kulusuk, Kitsissuarsuit, Maniitsoq, Nanortalik, Narsaq, Bongo, Paamiut, Qeqertaq, Qaanaaq, Ittoqqortoormiit, Kangerlussuaq, Sisimiut, Thule, Upernavik, Uummannaq, Bahía de los Ángeles, Akureyri, Bildudalur, Borgarfjörður eystri, Bakkafjörður, Blönduós, Búðardalur, Breiðdalsvík, Djúpivogur, Egilsstaðir, Fáskrúðsfjörður, Fagurhólsmýri, Grundarfjörður, Gjögur, Grímsey, Hólmavík, Höfn, Flateyri, Húsavík, Hvammstangi, Onundarfjörður, Ísafjörður, Biliau, Reykjavík, Kópasker, Sauðárkrókur, Norðfjörður, Ólafsfjörður, Patreksfjörður, Reykhólar, Rif, Raufarhöfn, Reykjavik, Myvatn, Siglufjörður, Stykkishólmur, Þingeyri, Thorshofn, Vestmannaeyjar, Vopnafjörður, Baleela Base Camp, Bahja, Bentota, Prishtina, Bomai, Bamu, Baranof, Bodinumu, Baganga, Bundi, Boana, Banz, Rurenabaque, Baures, Washington, Brookings, Boku, Bosset, Boang Island, Batuna Mission Station, Gustavus, Tucumã, Alenquer, Alto Boa Vista, Whitesburg, Bimini, Bensbach, Besakoa, Bulolo, Bolovip, Brava Island, Hukuntsi, Bewani, Nanuya Lailai Island, Bunsil - Umboi Island, Boundary, Beliyela, Colombo, Belmopan, Big Creek, Caye Caulker, Caye Chapel, Corozal, Dangriga, Independence, Melinda, Orange Walk, Placencia, Punta Gorda, Sartaneja, San Ignacio, Santa Cruz, Silver Creek, Belize City, Bazaruto Island, Bemolanga, Blissville, Clinton Creek Mine, Lupin Mine, Prince Patrick Is., RCAF Station Saglek, Terrace Bay, ON, Winisk, Big Bay, Bedwell Harbour, Tofino Harbour, Bronson Creek, Nanaimo, Trail, Merritt, Campbell River, Whistler, Bamfield, Chilko Lake, Ocean Falls, Courtenay, Creston, Anahim Lake, Douglas Lake, Albian Village, Tahsis, Duncan, Lax Kw'alaams, Sechelt, Kitkatla, Qualicum Beach, Port Mcneill, Rivers Inlet, Sullivan Bay, Miners Bay, Bella Bella, Salt Spring Island, Hartley Bay, Cache Creek, Telegraph Creek, Port Alberni, Bob Quinn Lake, Tungsten, Tumbler Ridge, Williams Harbour, Postville, Black Tickle, St. Lewis, Port Hope Simpson, Rigolet, Diavik, Hope Bay, Fairview, Hinton, Whatì, Grande Cache, Drayton Valley, Fort McMurray, Conklin, St. Paul, Taltheilei Narrows, Macmillan Pass, Great Bear Lake, Suncor Energy Site, Wekweètì, Donnelly, Cheadle, Okoyo, Craig, Cape Gloucester, Casiguran, Chinguetti, Circle Hot Springs, Chomley, Laurie River, Hatchet Lake, Kasba Lake, Fort Reliance, Cluff Lake, Knee Lake, Summer Beaver, Crooked Creek, Tisdale, Angling Lake, Wunnumin Lake, Opapimiskan Lake, North Spirit Lake, Crane Island, Cordova, Obre Lake, Chicken, Clear Lake, Cametá, Caia, Tangshan, Yinchuan, Yuanmou, Zhangjiakou, Dazu, Lincang, Xigazê, Panzhihua, Zigong, Foshan, Bazhong, Huizhou, Shaoguan, Ji'an, Baise, Dongying, Altay, Tianshui, Zhangye, Dandong, Nantong, Bearskin Lake, Natuashish, White River, Parry Sound, Brockville, Kingfisher Lake, Ogoki Post, Bogota, Arauquita, La Chorrera, Sabana De Torres, Tarapacá, Bar River, Frying Pan Island, Poplar Hill, Keewaywin, Sable Island, Lebel-sur-Quévillon, Snap Lake Mine, La Sarre, Chisasibi, East Hartford, Tête-à-la-Baleine, Kegaska, Chutes-des-Passes, Kattiniq, Ottawa, La Romaine, Fontanges, Duhamel, La Tabatière, Preston, Culion Island, Hollister, Culver City, Chitina, Geçitkale, Nicosia, Arctic Bay, Cat Lake, La Grande-3, Fort Frances, La Grande-4, Alert Bay, Sault Ste Marie, Kasabonika, Kangirsuk, Attawapiskat, St. Anthony, Tofino, Banff, Kugaaruk, Baie-Comeau, Bella Coola, Uranium City, Bonnyville, Bagotville, Baker Lake, Tadoule Lake, Brandon, Brochet, Berens River, Lourdes-De-Blanc-Sablon, Cartwright, Cambridge Bay, Cornwall, Centralia, Castlegar, Miramichi, Chatham-Kent, Charlo, Cochrane, Kugluktuk, Chetwynd, Cross Lake, Chesterfield Inlet, Coronation, Montreal, Chilliwack, Clyde River, Fairmont Hot Springs, Dawson City, Burwash, Deer Lake, Dease Lake, Ross River, Dauphin, Dolbeau-St-Félicien, Nain, Dawson Creek, Edmonton, Arviat, Elliot Lake, Manitowaning, Estevan, Fort Severn, Edson, Eureka, Inuvik, Amos, Fort Albany, Iqaluit, Fredericton, Forestville, Fort Hope, Rivière Rouge, Flin Flon, Fort Resolution, Fort Simpson, Makkovik, Texada, Fort Good Hope, Kingston, La Grande Rivière, Gimli, Gods Lake Narrows, Gaspé, Geraldton, Îles-de-la-Madeleine, Igloolik, Havre St-Pierre, Kuujjuarapik, Gillam, Grise Fiord, Quaqtaq, Hudson Bay, Vancouver, Dryden, Hope, Hearst, Nemiscau, Ulukhaktok, Gjoa Haven, Hamilton, Hornepayne, Hopedale, Chevery, Haines Junction, Montréal, Hay River, Halifax, Atikokan, Digby, St-Augustin, Ivujivik, Pond Inlet, Island Lake, Jasper, Fort Liard, St Jean, Stephenville, Kamloops, Collins Bay, Aklavik, Kitchener, Kangiqsujuaq, Key Lake, Schefferville, Kincardine, Akulivik, Waskaganish, Kirkland Lake, Kindersley, Toronto, Aupaluk, Lac La Biche, Kimmirut, Chapleau, Lansdowne House, Meadow Lake, Lutselk'e, Lloydminster, La Tuque, Leaf Rapids, Barrie-Orillia, Alert, Kangiqsualujjuaq, Kelowna, Chatham, Mayo, Matane, Manitouwadge, Mary's Harbour, Moose Jaw, Charlevoix, Moosonee, Chibougamau, Umiujaq, Maniwaki, Natashquan, Wemindji, Gatineau, Norway House, Hudson's Hope, Langley, Points North Landing, Matagami, Fort Mackay, Ekati, Old Crow, Cold Lake, Oxford House, High Level, Oshawa, Rainbow Lake, Owen Sound, Valcartier, Prince Albert, Paulatuk, Port Hawkesbury, Peace River, Portage la Prairie, Inukjuak, Pickle Lake, Pikangikum, Port-Menier, Peawanuck, Peterborough, Prince Rupert, Powell River, Puvirnituq, Fort Chipewyan, Burns Lake, Muskoka, Quebec, The Pas, Red Deer, Windsor, Watson Lake, Yarmouth, Kenora, Lethbridge, Moncton, Nakina, Comox, Regina, St Thomas, Thunder Bay, Grande Prairie, Yorkton, North Battleford, Gander, Sydney, Quesnel, Gamètì, Resolute Bay, Rivière-du-Loup, Roberval, Red Lake, Rocky Mountain House, Trois-Rivières, Red Sucker Lake, Rankin Inlet, Revelstoke, Sudbury, Sherbrooke, Suffield, Squamish, Stony Rapids, Smiths Falls, Saint John, Sanikiluaq, St Leonard, Fort Smith, St Catharines, Marathon, St. Theresa Point, Summerside, Sachs Harbour, Pembroke, Cape Dorset, Alma, Thompson, Big Trout Lake, Tasiujaq, Trenton, Timmins, Tuktoyaktuk, Repulse Bay, Hall Beach, Rouyn-Noranda, Bonaventure, La Ronge, Vermilion, Vernon, Colville Lake, Qikiqtarjuaq, Val-d'Or, Kuujjuaq, Norman Wells, Buffalo Narrows, Wiarton, Petawawa, Winnipeg, Victoria, Déline, Wabush, Williams Lake, Webequie, Wrigley, Cranbrook, Saskatoon, Medicine Hat, Killaloe, Fort St.John, Rimouski, Sioux Lookout, Whale Cove, Pangnirtung, Beaver Creek, Earlton, Prince George, Terrace, London, Abbotsford, Whitehorse, Wawa, North Bay, Calgary, Smithers, Fort Nelson, Penticton, Charlottetown, Taloyoak, Lynn Lake, Cowley, Swift Current, Churchill, Goose Bay, St. John's, Kapuskasing, Armstrong, Mont-Joli, Gore Bay, Yellowknife, Salluit, Slave Lake, Sandspit, Sarnia, Coral Harbour, Port Hardy, Whitecourt, Sept-Îles, Teslin, Greenwood, York Landing, Salmon Arm, Ilford, Bathurst, Bromont, Kelsey, Eastmain River, Faro, Fond-Du-Lac, Pukatawagan, Fort Mcpherson, Tulita, Grand Forks, Gods River, Little Grand Rapids, High Prairie, Corazón de Jesús and Narganá Islands, Jenpeg, Swan River, Cascade Locks, Kashechewan, Thicket Portage, Muskrat Dam, 108 Mile, Pikwitonei, Masset, Chisana, Poplar River, Chistochina, Sachigo Lake, Pincher Creek, Pinehouse Lake, Round Lake, Sandy Lake, South Indian Lake, Stewart, Bloodvein River, Shamattawa, Ignace, Churchill Falls, Lac Brochet, Wollaston Lake, Ontario County IDA, Delta Junction, Béjaïa, Algiers, Djanet, Illizi, Sétif, Tamanrasset, Jijel, Mecheria, Annaba, Constantine, Oum El Bouaghi, Skikda, Tébessi, Batna, Djelfa, Tiaret, Tindouf, Tlemcen, Oran, Béchar, Sidi Bel Abbès, El Bayadh, In Guezzam, Bordj Badji Mokhtar, Biskra, Ghardaïa, Hassi Messaoud, In Salah, Touggourt, Laghouat, Guemar, Timimoun, Ouargla, Aménas, Cotonou, Djougou, Kandi, Natitingou, Parakou, Savé, Baicheng, Kalpitiya Island, Debepare, Dambulla, Dubai, Dahl Creek, Decatur, Heidelberg, Böblingen, Derim, Dekai - Yahukimo, Kaya, Ouahigouya, Djibo, Leo, Po, Boulsa, Bogande, Diapaga, Dori, Fada N'gourma, Gorom-Gorom, Kantchari, Tambao, Pama, Arly, Sebba, Tenkodogo, Zabré, Ouagadougou, Banfora, Dedougou, Gaoua, Nouna, Bobo Dioulasso, Tougan, Diebougou, Aribinda, Accra, Daugo Island, Tamale, Kumasi, Sunyani, Sekondi-Takoradi, Deer Harbor, Dalnegorsk, Aboisso, Abidjan, Abengourou, Boundiali, Bouna, Bondoukou, Dimbokro, Ferkessedougou, Gagnoa, Guiglo, Grand-Béréby, Korhogo, Odienne, Ouango Fitini, Seguela, Sassandra, Tabou, Touba, Dickwella, Yamoussoukro, Dalnerechensk, Katsina, Abuja, Uyo, Akure, Asaba, Bauchi, Benin, Calabar, Enegu, Ibadan, Ilorin, Owerri, Jos, Kaduna, Kano, Maiduguri, Makurdi, Lagos, Minna, Port Harcourt, Sokoto, Yola, Zaria, Dorobisoro, Dios, Deer Park, Deputatskiy, Dumpu, Daqing Shi, Maradi, Niamey, Tahoua, Agadez, Arlit, Zinder, Dilasag, Tabarka, Monastir, Tunis, Gafsa, Gabès, Djerba, El Borma, Sfax, Tozeur, Andavadoaka, Kotte, Camp Dwyer, Walt Disney World, Niamtougou, Lomé, Mejato Island, Antwerp, Brussels, Wevelgem, Liège, Ebon Atoll, Ostend, Zoersel, Santiago de Méndez, Edna Bay, Altenburg, Heringsdorf, Riesa, Lärz, Schönhagen, Magdeburg, Neubrandenburg, Cottbus, Rügen, Köthen, Peenemünde, Dresden, Erfurt, Frankfurt am Main, Münster, Hamburg, Cologne, Düsseldorf, Munich, Nuremberg, Leipzig, Saarbrücken, Stuttgart, Hannover, Bremen, Mannheim, Eisenach, Kiel, Lübeck, Neumünster, Memmingen, Aachen, Bonn, Bielefeld, Mönchengladbach, Paderborn, Weeze, Dortmund, Augsburg, Straubing, Friedrichshafen, Bayreuth, Ebermannstadt, Giebelstadt, Hof, Bitburg, Zweibrücken, Baden-Baden, Donaueschingen, Braunschweig, Kassel, Bremerhaven, Lemwerder, Emden, Wangerooge, Wilhelmshaven, Juist, Langeoog, Borkum, Norddeich, Cloppenburg, Norderney, Baltrum, Büsum, Flensburg, Helgoland, Husum, Sankt Peter-Ording, Westerland, Wyk auf Föhr, Kärdla, Kuressaare, Pärnu, Tallinn, Tartu, Enontekio, Efogi, Halli / Kuorevesi, Helsinki, Hyvinkää, Ivalo, Joensuu / Liperi, Jyväskylän Maalaiskunta, Kauhava, Kemi / Tornio, Kajaani, Kokkola / Kruunupyy, Kuusamo, Kittilä, Kuopio / Siilinjärvi, Lappeenranta, Mikkeli, Oulu / Oulunsalo, Pori, Rovaniemi, Savonlinna, Seinäjoki / Ilmajoki, Sodankyla, Tampere / Pirkkala, Turku, Utti / Valkeala, Vaasa, Varkaus / Joroinen, Abu Rudeis, Belfast, Enniskillen, Derry, Birmingham, Coventry, Staverton, Northampton, Nottingham, Kemble, Manchester, Doncaster, Upavon, Lyneham, Yeovil, Campbeltown, Eday, Fair Isle, Whalsay, Coll Island, North Ronaldsay, North Connel, Papa Westray, Stronsay, Sanday, Lerwick, Westray, Colonsay, Haverfordwest, Cardiff, Swansea, Bristol, Liverpool, Land's End, Plymouth, St. Mary's, Bournemouth, Southampton, Bembridge, Penzance, Lasham, Newquay, Chichester, Saint Anne, Saint Peter Port, Saint Helier, Brighton, West Malling, Redhill, Farnborough, Yateley, Southend, Lydd, Ashford, Manston, Ashford, Carlisle, Blackpool, Grimsby, Barrow-in-Furness, Leeds, Warton, Hawarden, Castletown, Newcastle, Durham, Angelsey, Orkney Islands, Wick, Aberdeen, Inverness, Glasgow, Edinburgh, Port Ellen, Balivanich, Shetland Islands, Dundee, Stornoway, Eoligarry, Perth, Balemartine, Kinloss, St. Andrews, Lossiemouth, Cambridge, Norwich, Duxford, High Wycombe, Exeter, Kidlington, Rochester, Upper Heyford, Benson, Lakenheath, Mildenhall, St. Ives, Fairford, Gosport, Woodbridge, Brize Norton, Odiham, Huntingdon, Coningsby, Thetford, Cottesmore, Scampton, Linton-On-Ouse, Waddington, Marham, Mount Pleasant, Amsterdam, Maastricht, Eindhoven, Groningen, Breda, Den Helder, Lelystad, Leeuwarden, Rotterdam, Soesterberg, Enschede, Leiden, Bergen Op Zoom, Bantry, Belmullet, Inverin, Castlebar, Cork, Galway, Donegal, Dublin, Inis Mór, Inis Oírr, Kilkenny, Charleston, Killarney, Letterkenny, Inis Meáin, Shannon, Sligo, Waterford, Ejin Banner, Enejit Island, Aarhus, Billund, Copenhagen, Esbjerg, Karup, Læsø, Lolland Falster / Maribo, Odense, Rønne, Sønderborg, Sindal, Vojens, Skive, Thisted, Vagar, Skjern / Ringkøbing, Aalborg, Luxembourg, Ålesund, Andenes, Alta, Førde, Brønnøy, Bodø, Bergen, Båtsfjord, Berlevåg, Kjevik, Dagali, Målselv, Evenes, Oslo, Florø, Hamar, Karmøy, Hammerfest, Hasvik, Honningsvåg, Kvernberget, Klanten flyplass, Kirkenes, Farsund, Leknes, Mehamn, Årø, Lakselv, Narvik, Namsos, Notodden, Ørland, Ørsta, Mo i Rana, Rørvik, Røros, Longyearbyen, Sandane, Sogndal, Svolvær, Hadsel, Geiteryggen, Leirvik, Sørkjosen, Vardø, Alstahaug, Tromsø, Torp, Trondheim, Vadsø, Værøy, Stavanger, Biała Podlaska, Bydgoszcz, Częstochowa, Gdańsk, Kraków, Zegrze Pomorskie, Katowice, Czechowice-Dziedzice, Łódź, Warsaw, Gdynia, Poznań, Radom, Rzeszów, Goleniow, Olsztyn, Wrocław, Babimost, Erdenet, Gothenburg, Jönköping, Lidköping, Skövde, Trollhättan, Mora, Stockholm / Nyköping, Kristianstad, Malmö, Halmstad, Växjö, Gällivare, Hudiksvall, Kramfors / Sollefteå, Sundsvall/ Härnösand, Örnsköldsvik, Kiruna, Skellefteå, Umeå, Arvidsjaur, Söderhamn, Östersund, Örebro, Karlstad, Stockholm / Västerås, East Stroudsburg, Luleå, Stockholm, Gävle / Sandviken, Linköping, Norrköping, Eskilstuna, Visby, Västervik, Ängelholm, Idre, Geladi, Shire Indasilase, Trier, Ramstein, Sembach, Fritzlar, Storck Barracks, Kitzingen, Cuxhaven, Rostock, Jagel, Wiesbaden, Fürstenfeldbruck, Manching, Gütersloh, Daugavpils, Liepāja, Riga, Ventspils, Berkshire, Excursion Inlet, Kaunas, Klaipėda, Palanga, Panevėžys, Šiauliai, Vilnius, Ranger, Alexander Bay, Aggeneys, Alldays, Bisho, Bloemfontain, Bultfontein, Arathusa, Cradock, Cape Town, Mubatuba, Phinda, East London, Empangeni, Ellisras, Ficksburg, Midrand, George, Giyani, Johannesburg, Hluhluwe, Harrismith, Hoedspruit, Klerksdorp, Kimberley, Mpumalanga, Komatipoort, Kuruman, Kleinsee, Roma, Lime Acres, Londolozi, Durban, Lusikisiki, Louis Trichardt, Langebaanweg, Ladysmith, Malamala, Margate, Musina, Mafeking, Malelane, Mossel Bay, Mkuze, Ngala, Nelspruit, Overberg, Oudtshoorn, Port Alfred, Port Elizabeth, Plettenberg Bay, Phalaborwa, Port St Johns, Prieska, Pietermaritzburg, Pilanesberg, Polokwane, Potchefstroom, Queenstown, Richards Bay, Reivilo, Robertson, Springbok, Secunda, Sishen, Skukuza, Thohoyandou, Homeward, Tzaneen, Ulundi, Upington, Mthatha, Vyrburg, Vredendal, Vryheid, Pretoria, Francistown, Ghanzi, Kasane, Khwai River Lodge, Lobatse, Maun, Orapa, Palapye, Gaborone, Sowa, Savuti, Shakawe, Tuli Lodge, Tshabong, Brazzaville, Djambala, Kindamba, Lague, Mouyondzi, Sibiti, Nkayi, Zanaga, Mossendjo, Boundji, Oyo, Ewo, Gamboma, Impfondo, Kelle, Makoua, Owando, Souanke, Betou, Makabana, Dolisie, Pointe Noire, Manzini, Fetlar Island, Carnot, Bangui, Bangassou, Birao, Bambari, N'Délé, Bouar, Bria, Bossangoa, Berbérati, Ouadda, Yalinga, Zemio, Mboki, Batangafo, Melle, Bakouma, Ouanda Djallé, Rafaï, Bouca, Bozoum, San Antonio de Palé, Mengomeyén, Malabo, Ascension Island, Jamestown, Port Louis, Port Mathurin, Buki, Diego Garcia, Nkongsamba, Kribi, Tiko, Douala, Mamfe, Bali, Kaélé, Batouri, Yagoua, Maroua, Foumban, N'Gaoundéré, Bertoua, Garoua, Dschang, Bafoussam, Bamenda, Ebolowa, Yaoundé, Mbala, Chipata, Fort Lee, Lower Zambezi Natational Park, Chingola, Kalabo, Kaoma, Kasama, Kasaba Bay, Livingstone, Lukulu, Lusaka, Mansa, Mfuwe, Mongu, Ngoma, Ndola, Senanga, Kitwe, Sesheke, Solwesi, Flat, Zambezi, Falalop Island, Moroni, Ouani, Dzaoudzi, St Denis, St Pierre, Malaimbandy, Antsirabe, Antsalova, Mahanoro, Antananarivo, Ankavandra, Belo sur Tsiribihina, Maintirano, Ilaka, Morafenobe, Tambohorano, Tsiroanomandidy, Vatomandry, Ambatondrazaka, Mananara Nord, Befandriana, Port Bergé, Nosy Be, Soalala, Mampikony, Tsaratanana, Antsohihy, Mandritsara, Beroroha, Mandabe, Tôlanaro, Ihosy, Manja, Bekily, Tanandava, Vangaindrano, Betioky, Ampanihy, Ankazoabo, Ambriz, Mbanza Congo, Benguela, Lumbala N'guimbo, Cabinda, Cafunfo, Chitato, Catumbela, Cuito Cuanavale, Camaxilo, Cazombo, Fane Mission, Ngiva, Huambo, Kuito, Lucapa, Luanda, Luzamba, Malanje, Menongue, Namibe, Negage, Port Amboim, Saurimo, Soyo, Sumbe, Luau, Lubango, Luena, Uige, Waco Kungo, Xangongo, N'zeto, Nzagi, Booue, Ndende, Fougamou, M'Bigou, Moabi, N'Djolé, Koulamoutou, Mouila, Oyem, Okondja, Lambarene, Minvoul, Bitam, Moanda, Mekambo, Port Gentil, Omboue, Iguela, Makokou, Libreville, Mitzic, Franceville, Lastourville, Sette Cama, Tchibanga, Mayumba, Foya, São Tomé, Angoche, Beira, Cuamba, Chimoio, Inhaca, Inhambabe, Lichinga, Lumbo, Maputo, Mueda, Mocímboa da Praia, Nacala, Nampula, Pemba / Porto Amelia, Ponta do Ouro, Quelimane, Tete, Vilanculo, Xai-Xai, Cannes, Desroches Island, Mahe Island, Fossil Downs Station, Fort Sheridan, Praslin Island, Bird Island, Denis Island, Frégate Island, Sarh, Bongor, Lai, Ati, N'Djamena, Bokoro, Bol, Mongo, Am Timan, Pala, Bousso, Mao, Fulleborn, Bumi, Bulawayo, Chipinge, Chiredzi, Victoria Falls, Harare, Kariba, Gonarezhou National Park, Mutare, Masvingo, Gweru, Hwange, Blantyre, Club Makokola, Dwangwa, Karonga, Kasungu, Lilongwe, Likoma Island, Mangochi, Monkey Bay, Salima, Mzuzu, Lebakeng, Leribe, Lesobeng, Mafeteng, Mokhotlong, Maseru, Nkaus, Pelaneng, Quthing, Qacha's Nek, Sehonghong, Sekakes, Semonkong, Seshutes, Thaba-Tseka, Tlokoeng, Ai-Ais, Arandis, Gobabis, Grootfontein, Halali, Karasburg, Mpacha, Keetmanshoop, Lianshulu Lodge, Luderitz, Mount Etjo Safari Lodge, Midgard, Mokuti Lodge, Namutoni, Ondangwa, Omega, Oranjemund, Okaukuejo, Opuwa, Oshakati, Otjiwarongo, Rundu, Rosh Pinah, Swakopmund, Terrace Bay, Tsumeb, Walvis Bay, Windhoek, Kinshasa, N'dolo, Boma, Luozi, Matadi, N'Kolo-Fuma, Inongo, Nioki, Kiri, Idiofa, Lusanga, Masi Manimba, Mbandaka, Basankusu, Libenge, Gemena, Bumbar, Boende, Ikela, Kisangani, Yangambi, Butembo, Goma, Beni, Kindu, Kalima, Punia, Lubumbashi, Pweto, Kasenga, Manono, Moba, Kabalo, Kongolo, Kapanga, Kaniama, Kananga, Luiza, Tshikapa, Lodja, Lusambo, Mweka, Basongo, Ilebo, Mbuji Mayi, Gandajika, Kabinda, Akieni, Gamba, Gabbs, Bamako, Goundam, Kenieba, Koutiala, Nara, Nioro du Sahel, Sikasso, Timbuktu, Yélimané, Woodlark (Muyua) Island, Orkney Isle, Dornoch, Flotta Isle, Foula, Grunay Island, Papa Stour Island, Garbaharey, Banjul, Fuerteventura Island, Alajero, La Gomera Island, El Hierro Island, Sta Cruz de la Palma, La Palma Island, Gran Canaria Island, Lanzarote Island, Tenerife Island, Gravatai, Gounda, Ceuta, Melilla, Gewoia, Bonthe, Bo, Greenfield, Gbangbatok, Freetown, Kabala, Kenema, Yengema, Bubaque, Bissau, Garachiné, Groennedal, Buchanan, Harper, Greenville, Monrovia, Nimba, Gulgubip, Sasstown, Tchien, Voinjama, Agadir, Tan Tan, Zagora, Bouarfa, Fes, Errachidia, Meknes, Oujda, Smara, Ben Slimane, Casablanca, Beni Mellal, Rabat, Sidi Ifni, Dakhla, Essaouira, El Aaiún, Safi, Nador, Marrakech, Ouarzazate, Golog, Al Hoceima, Tétouan, Tangier, Goodnews, Dakar, Gora, Kolda, Ziguinchor, Cap Skirring, Kaolack, Matam, Podor, Richard Toll, Saint Louis, Bakel, Kédougou, Simenti, Tambacounda, Aioun El Atrouss, Boutilimit, Tichitt, Tidjikja, Boghe, Kiffa, Timbedra, Néma, Akjoujt, Kaédi, Moudjeria, Nouakchott, Sélibaby, Tamchakett, Atar, Fderik, Nouadhibou, Zouérate, Grand Cess, Garuahi, Granite Mountain, Chiquimula, Dos Lagunas, El Naranjo, Paso Caballos, Tikal, Uaxactun, Playa Grande, Grumeti Game Reserve, Conakry, Guriaso, Fria, Faranah, Kissidougou, Labé, Macenta, Nzérékoré, Boké, Koundara, Siguiri, Kankan, Espargos, Ponta do Sol, Rabil, Gordonsville, Vila do Maio, Vila do Mosteiros, Praia, São Filipe, Preguiça, São Pedro, Gnarowein, Spandau, Bemichi, Botopasi, Djumu-Djomoe, Aurora, Washabo, Addis Ababa, Baco, Bahir Dar, Beica, Degah Bur, Dessie, Dembidollo, Debra Marcos, Dire Dawa, Debre Tabor, Fincha, Goba, Ghinnir, Gambela, Gondar, Gode, Gore, Debre Zeyit, Humera, Jijiga, Jimma, Kabri Dehar, Kelafo, Awassa, Lalibela, Mekane Selam, Metema, Omo National Park, Mizan Teferi, Negele Borana, Nejjo, Nekemte, Pawe, Soddu, Shakiso, Semera, Asosa, Tippi, Waca, Warder, Haycock, Hatzfeldhaven, Bujumbura, Gitega, Kirundo, Hambantota, Alula, Baidoa, Candala, Eyl, Bosaso, Gardo, Hargeisa, Berbera, Luuq, Mogadishu, Beledweyne, Obbia, Galcaio, Scusciuban, Erigavo, Burao, Garowe, Djibouti City, Ali-Sabieh, Moucha Island, Obock, Tadjoura, Siwa, Minya, Sidi Barrani, El Alamein, El Arish, Assiut, Alexandria, Abu Simbel, Cairo, El Cairo, Hurghada, El Gora, Luxor, Marsa Alam, Sohag, Mersa Matruh, Haelogo, Port Said, Sharm el-Sheikh, Aswan, Taba, Fort Rucker Ozark, Fort Hunter Ligget Jolon, Asmara, Massawa, Asab, Tessenei, Hanalei, Waikoloa Village, Huai'an, Shilavo, Amboseli National Park, Healy Lake, Eldoret, Eliye Springs, Kalokol, Garissa, Hola, Nairobi, Kakamega, Kisumu, Kilaguni, Kericho, Kitale, Lokichoggio, Lodwar, Lamu, Loyengalani, Mandera, Marsabit, Malindi, Mombasa, Masai Mara, Moyale (Lower), Nyeri, Nakuru, Nanyuki, Samburu, Ukunda, Wajir, Sirt, Tobruk, Ghat, Kufra, Benghazi, Tripoli, Al Bayda', Sabha, Ghadames, Zintan, Zuwara, Erandique, Tahneta Pass Lodge, Quang Duc, Zhayrem, Gisenyi, Butare, Kigali, Ruhengeri, Kamembe, Atbara, El Debba, Dongola, Ad Damazin, Higleig, El Fasher, Gedaref, Dinder, Geneina, Heglig Oilfield, Zhengzhou, Kassala, Khashm El Girba, Kosti, Kadugli, Rumbek, Merowe, En Nahud, Nyala, New Halfa, Al-Ubayyid, Port Sudan, Juba, Malakal, Khartoum, Wadi Halfa, Wad Medani, Zalingei, Arusha, Bukoba, Dar es Salaam, Dodoma, Mbeya, Nduli, Kigoma, Kilwa Masoko, Lindi, Lake Manyara National Park, Hatgal, Mafia Island, Mwadui, Masasi, Moshi, Mtwara, Musoma, Mwanza, Nachingwea, Njombe, Chake, Seronera, Songea, Sumbawanga, Shinyanga, Tabora, Tanga, Zanzibar, Arua, Kampala, Gulu, Jinja, Kabalega Falls, Kasese, Mbarara, Masindi, Soroti, Tororo, Hawabango, Hollis, Iboki, Sicogon Island, Jakarta, Jember, Banyuwangi, Bawean, Apalapsili, Anggi-Papua Island, Astraksetra-Sumatra Island, Ayawasi-Papua Island, Boalang-Celebes Island, Batom-Papua Island, Dabra-Papua Island, Elelim-Papua Island, Asmat, Kornasoren-Numfoor Island, Gag Island, Ilu-Papua Island, Karubaga-Papua Island, Kambuaya-Papua Island, Kamur-Papua Island, Kon, Keisah-Papua Island, Kiman-Papua Island, Kotabangun-Borneo Island, Sungai Penuh, Karimunjawa-Karimunjawa Island, Kelila-Papua Island, Lewoleba-Lembata Island, Lunyuk-Simbawa Island, Mangungaya-Sumatra Island, Maliana-Alor Island, Masalembo Island, Muting, Banaina-Borneo Island, Obano-Papua Island, Kolaka, Purwokerto-Java Island, Raha-Muna Island, Rokot-Sumatra Island, Roti-Rote Island, Amgotro, Sawan-Bali Island, Sangir-Simbawa Island, Tumbang Samba-Borneo Island, Tiom-Papua Island, Senggo-Papua Island, Sugapa-Papua Island, Indagen, Ileg, Iamalele, Fergusson Island, Inhaminga, Jagdalpur, Neyveli, Rajouri, Tezu, Chinde, Iokea, Ioma, Khaneh, Qeshm, Iranamadu, Ishigaki, Tremiti Islands, Itokama, Inus, Ivishak River, Isla Viveros, Jiagedaqi, Jinchang, Tiakur, Qianjiang, Jijoca de Jericoacoara, Cooper Landing, Josephstaal, Chizhou, Durango, Broadus, Jackpot, Rolla, Fishers Island, Humboldt, Port Townsend, Kayenta, Hudson, Ardmore, Peach Springs, Lakeport, Montague, Cañon City, Rouses Point, Cooperstown, Council, Iraan, Quincy, Chiloquin, Leonardtown, Arapahoe, Princeton/Rocky Hill, Calverton, Afton, Grants Pass, Niles, Electric City, Grand Canyon, Perry, Manti, Salina, Manville, Eunice, Gold Beach, Kentland, Prentice, Eagle Pass, Boulder City, Mesquite, East Tawas, Florence, Anacortes, Roosevelt, Canton, Paonia, Antlers, Charlotte, Austin, Apalachicola, Houston, Allentown, Abilene, Albuquerque, Albany, Bellaire, Nantucket, Waco, Arcata/Eureka, Atlantic City, Adrian, Ada, Dallas, Camp Springs, Kake, Albert Lea, Karato, Colorado Springs, Jaffrey, Fort Worth, Pittsburgh, Magnolia, Augusta, Herlong, Amery, Athens, Alliance, Anderson, Aiken, Atlantic, Aliceville, Kaiser Lake Ozark, Akron, Alice, Alamogordo, Alton/St Louis, Waterloo, Alamosa, Walla Walla, Alexander City, Amarillo, Ames, Anniston, Salida, Annapolis, Angola, Ainsworth, Anthony, Lima, Altoona, Denver, Napa, Naples, Aberdeen Proving Grounds(Aberdeen), Fort A. P. Hill, Alpena, Apple Valley, Kamulai Mission, New Iberia, Ann Arbor, Walnut Ridge, Wharton, Chicago/Aurora, Watertown, Minocqua-Woodruff, Beaufort, Aspen, Springdale, Nashua, Marshall, Talladega, Astoria, Ashland, Ashley, Atlanta, Artesia, Appleton, Auburn, Wausau, Asheville, Avon Park, Wilkes-Barre/Scranton, Tucson, Avalon, West Memphis, Algona, Altus, Wapakoneta, Angel Fire, Waycross, Tullahoma, Kalamazoo, Marysville, Bossier City, Westfield/Springfield, Columbus, Battle Mountain, Brady, Bennettsville, Broken Bow, Blacksburg, Bryce Canyon, Boca Raton, Baudette, Blanding, Hartford, Bridgeport, Boulder, Bell Island, Wichita, Bedford, Benton Harbor, Scottsbluff, Seattle, Bakersfield, Mobile, Borger, Bainbridge, Binghamton, Bangor, Bar Harbor, Block Island, Beatrice, Fort Bliss/El Paso, Bishop, Billings, Bismarck, Biloxi, Bemidji, Wooster, Breckenridge, Baker City, Cleveland, Blackstone, Beckley, Bluefield, Blythe, Bellingham, Belmar/Farmingdale, Emigrant Gap, Belleville, Brigham City, Bloomington, Bloomington/Normal, Beaumont, Nashville, Banning, Barnwell, Burns, Boone, Boise, Boston, Bartow, Big Spring, Big Piney, Mountain Home, Beaumont/Port Arthur, Brunswick, Brainerd, Burlington, Brownsville, Bardstown, Bountiful, Battle Creek, Butte, Britton, Butler, Baton Rouge, Beatty, Burwell, Buffalo, Burbank, Beaver Falls, Bartlesville, Burlington/Mount Vernon, Batesville, Beverly, Brawley, Brownwood, Bowling Green, Baltimore, Wahpeton, Bowman, Bogalusa, Buckeye, Blytheville, Burley, Fort Irwin/Barstow, Bay City, Bozeman, Lake Geneva, Coalinga, Cadillac, Columbia, Clayton, Caribou, Cumberland, Council Bluffs, Colby, Coffman Cove, Upland, Concord, Charles City, Lyndonville, Cedar City, Camden, Chadron, Childress, Caldwell, Crescent City, Springfield/Chicopee, Clemson, Connersville, Crestview, Murray, Cortez, Bryan, Caro, Clifton/Morenci, Coffeyville, Chignik, Cape Girardeau, College Park, Chicago, Casa Grande, Chattanooga, Chickasha, Charlottesville, Chico, Cedar Rapids, Carroll, Cherokee, Clarksburg, Grand Marais, Clarksdale, Crookston, Clarksville, Chignik Flats, Clintonville, Clinton, College Station, Port Angeles, Calipatria, Chehalis, Clearwater, Champaign/Urbana, Hancock, Sparta, Chernofski Harbor, Claremont, Concordia, Carlsbad, Chino, Chanute, Moab, Cody, Coeur d'Alene, Cocoa Beach, Merritt Island, Coleman, Cotulla, Compton, Casper, Cahokia/St Louis, Cheraw, Colorado Creek, North Myrtle Beach, Jacksonville, Corcoran, Corpus Christi, Corsicana, Crossett, Corinth, Crossville, Cut Bank, Cross City, Cushing, Cincinnati, Ash Flat, Clovis, Corvallis, Mosinee, Wichita Falls, Lake Charles, Calexico, Carson City, Harrisburg, Cheyenne, Nankoku, Carrizo Springs, Tioga, Fort Belvoir, Daytona Beach, Daggett, Danville, Dayton, Dubuque, Dodge City, Decorah, Detroit, Defiance, Dallas-Fort Worth, Douglas, Dothan, Dalhart, Dickinson, Dunkirk, Dillon, Del Rio, Duluth, The Dalles, Deming, Sedalia, Dalton, Denison, Dover, Kandep, Chicago/West Chicago, Dugway Proving Ground, Kamberatoro Mission, Mercury, De Ridder, Drummond Island, Kamaran Downs, Des Moines, Dansville, Delta, Detroit Lakes, Shreveport, Destin, Durant, Douglas Bisbee, Dubois, Devils Lake, Davenport, Novato, Slayton, Phoenix, Kandy, Danbury, Doylestown, Meru-Kinna, Vipingo Estate, Maasai Mara, Kimwarer, Liboi, Lake Baringo, Lake Rudolf, Mara Lodges, Mumias, Monahans, Crane, Espanola, Whiteriver, Alpine, Bagdad, Wheatland, Kearney, Wenatchee, Eau Claire, Nanwalek, Webster City, Elizabeth City, Panama City Beach, Edenton, Enterprise, Edwards, Needles, Keene, Newport, Jefferson, Denglagu Mission, Eagle, Eagle River, Ekwok, Elkhart, Elkins, Elko, Elizabethtown, Eagle Lake, El Dorado, Elk City, Elmira/Corning, Ellensburg, Ely, El Paso, Wellsville, Kemmerer, Emporia, El Monte, Enid, Wendover, Kenosha, Keokuk, Ephrata, Erie, Errol, Kerrville, Escanaba, Easton, Estherville, West Bend, Eastland, Eufaula, Eugene, Eveleth, Evansville, Evanston, New Bedford, Newton, New Bern, Newark, Kanabea, Key West, Murrieta/Temecula, Fort Eustis, Farmington, Fargo, Fresno, Fayetteville, Faribault, Fort Bridger, Fairbury, Minneapolis, Fort Carson, Forrest City, Frederick, Findlay, Freeport, Fremont, Kill Devil Hills, Fairfield, Fergus Falls, Frankfort, Mesa, Friday Harbor, Fort Huachuca Sierra Vista, Franklin, Fond du Lac, Flagstaff, Fort Lauderdale, Flippin, Queens, Fort Leavenworth, Fallon, Fort Meade(Odenton), Falmouth, Fort Myers, Fort Collins/Loveland, Flint, Fort Dodge, Topeka, Westhampton Beach, Fillmore, Fort Pierce, Farmingdale, French Lick, Fort Riley(Junction City), Fairmont, Front Royal, Sioux Falls, Fort Sill, Fort Scott, Fort Stockton, Fort Sumner, Fort Madison, Fort Knox, Fullerton, Frenchville, Fort Wayne, Forest City, Gadsden, Gage, Gaithersburg, Great Bend, Galesburg, Great Barrington, Gillette, John Day, Garden City, Greeneville, Gardner, Glendive, Gladwin, Georgetown, Spokane, Greybull, Great Falls, Glens Falls, Longview, Centerville, Winter Haven, Grand Junction, Meadville, Sevierville, Goodland, Gainesville, Gaylord, Galveston, Gooding, Grants, Guthrie, Groton (New London), Kalispell, Gulfport, Grand Rapids, Galion, Green Bay, Fort Lewis/Tacoma, Grand Island, Fort Hood/Killeen, Gordon, Goldsboro, Goshen, Greensboro, Grantsburg, Columbus/W Point/Starkville, Gunnison, Gallup, Peru, Guymon, Belton, Kagi, Glenwood Springs, Grayling, Greeley, Sherman/Denison, Goodyear, Gary, Glacier Creek, Half Moon Bay, Three Rivers, Muskogee, Hattiesburg, Hobart, Holdrege, Hayden, Helena/West Helena, Manassas, Natchez, Camp Mackall, Hagerstown, Hawthorne, Hugo, Hibbing, Whitefield, Ogden, Lake Havasu City, Portland, Jackson, Hickory, Khulna, Hill City, Wheeling, Holland, Helena, Fort Hood(Killeen), Hemet, Huntingburg, Las Vegas, Hobbs, Huron, Fort Campbell/Hopkinsville, Hot Springs, White Plains, Hampton, Baytown, Hoquiam, Hermiston, Harlingen, Harrison, Hatteras, Thermopolis, Hastings, Homestead, Huntsville, Houghton Lake, East Hampton, Huntington, Chesapeake/Huntington Wva, Redstone Arsnl Huntsville, Terre Haute, Houlton, Houma, Hutchinson, Hanksville, New Haven, Havre, Hartsville, Hayward, Hollywood, Shirley, Hilton Head Island, Hyannis, Hays, Hazleton, Ashtabula, Kaiapit, Niagara Falls, Ivanof Bay, Clarinda, Idaho Falls, Indiana, Pine Ridge, Iowa Falls, Bullhead City, Kingman, Kankakee, Kilwa, Killeen, Wilmington, Imperial, Immokalee, Madison, Iron Mountain / Kingsford, Indianapolis, Wink, International Falls, Indian Springs, Winston Salem, Winslow, Iowa City, Williamsport, Kira, Kirksville, Sturgis, Orlando, Williston, Kinston, Islip, Manistique, Wisconsin Rapids, Ithaca, Ironwood, Wiscasset, Olathe, Inyokern, Kikinonda, Santa Ynez, Fryeburg, Jonesboro, Junction, Jordan, Jefferson City, Gulf Shores, Joplin, Joliet, Johnstown, Kamiraba, Janesville, Kitoi Bay, King City, Karluk Lake, Kelso, Ekuk, Death Valley National Park, Borrego Springs, Big Bear, Trona, Lamar, Lafayette, Lakeland, Los Alamos, Lansing, Laramie, Lawton, Latrobe, North Platte, Liberal, Lumberton, Angleton/Lake Jackson, Laconia, Lake City, Linden, Ludington, Lebanon, Leesburg, Lemmon, Auburn/Lewiston, Lexington, Lufkin, Long Beach, Lagrange, La Grande, Yuma Proving Ground(Yuma), Logan, Arlington, Lock Haven, Fort Stewart(Hinesville), Louisburg, Limon, Little Rock, Lake Placid, Louisa, Lakeview, Challis, Louisville, Klamath Falls, West Palm Beach, Lander, Lincoln, Willoughby, Wise, Lone Rock, Lancaster, Lovelock, Philadelphia, Chicago/Romeoville, Lompoc, Pickens, Laredo, Le Mars, Las Cruces, Lordsburg, La Crosse, Fort Benning(Columbus), Lusk, Los Banos, Glendale, Laurel, Livermore, Lawrenceville, Livingston, Lewisburg, Lawrence, Wells, Lewiston, Lewistown, Leadville, Lynchburg, Lyons, Poplarville, Malta, Macon, Madera, Midland, Malden, Konambe, Mobridge, Manistee, Saginaw, Moberly, Mc Comb, Sacramento, Mackinac Island, Merced, Tampa, Kansas City, Mc Cook, Mason City, San Antonio, Carbondale/Murphysboro, Medford, Maxton, Meridian, Memphis, Minden, Hoieti, Mansfield, Mc Allen, Marshfield, Melfa, Michigan City, Marietta, Montgomery, Moultrie, Morgantown, Mitchell, Manhattan, Mojave, Miami, Minot, Muncie, Shafter, Millville, Toms River, Milwaukee, Muskegon, Marco Island, Melbourne, Mc Alester, Moline, Miles City, Monroe, Kimaam, Mammoth Lakes, Marks, Eastover, Morristown, Menominee, Marion, Modesto, Mariposa, Morrilton, Mount Pocono, Barre/Montpelier, Macomb, Manteo, Coatesville, Smyrna, Martinsburg, Columbia/Mount Pleasant, Marfa, Morganton, Monterey, Muscle Shoals, Missoula, Massena, Monticello, New Orleans, Kampot, Mount Clemens, Montrose, Mattoon/Charleston, Montauk, Manitowoc, Fort Indiantown Gap(Annville), Muscatine, Monroeville, Montevideo, Morrisville, Martha's Vineyard, Moses Lake, Mineral Wells, Middletown, Manila, San Diego, McCall, Myrtle Beach, Marana, Cortland, Sidney, Foley, Dahlgren, Lakehurst, Norfolk, Alameda, Patuxent River, El Centro, Kelanoa, Lemoore, Pensacola, Millington, Kingsville, Mayport, Imperial Beach, Milton, Point Mugu, Virginia Beach, Mountain View, Oak Harbor, Yuma, Beckwourth, Oakdale, Yerington, Oakland, Marina, Okeechobee, Ocala, Nacogdoches, Vincennes, Osceola, Omaha, Ogallala, Orangeburg, Ogdensburg, Oil City, Oceanside, Oklahoma City, Kokomo, Okmulgee, Oshkosh, Winchester, Koumala, Old Town, Wolf Point, Olympia, Nogales, Olive Branch, Komo, Omak, O'Neill, Ontario, North Kingstown, Kakoro, Worcester, Eastsound, Oscoda, North Bend, Ottumwa, Norman, Oroville, Owatonna, Owensboro, Norwood, Norridgewock, Ocean City, Oxford, Oxnard, Olga Bay, St Marys, Ozona, Fort Rucker/Ozark, Samjiyŏn, Hoemun-ri, Bisbee, Polacca, Globe, Holbrook, Willcox, Everett, Paducah, Panama City, Payson, Palo Alto, Point Baker, Pine Bluff, Plattsburgh, Pikeville, Prairie Du Chien, Pendleton, Pecos, Page, Paragould, New Philadelphia, Newport News, Andrews, Pahokee, Port Huron, Philip, Paris, Peoria, Hattiesburg/Laurel, St Petersburg-Clearwater, Pocatello, Pine Mountain, Pierre, Parkersburg, Park Rapids, Park Falls, Kapal, Branson / Hollister, Pellston, Pell City, Pembina, Palmdale, Portsmouth, Pompano Beach, Pinedale, Ponca City, Princeton, La Verne, Fort Polk, Poplar Bluff, Poughkeepsie, Powell, Pampa, Parsons, La Porte, Presque Isle, Pascagoula, Port Williams, Paso Robles, Prescott, Pasco, Pittsfield, Palestine, Pagosa Springs, Palm Springs, Palacios, Petersburg, Pontiac, Patterson, Pratt, Porterville, Pottstown, Pueblo, Price, Pullman/Moscow, Provincetown, Providence, Placerville, Provo, Plainview, Plainesville, Plentywood, Chicago/Prospect Heights/Wheeling, Bremerton, Port Bailey, Akutan, Kol, Chuja, Hach’uja-do (Chujado Islands), Racine, Riverside, Rapid City, Roseburg, Red Bluff, Walterboro, Rockdale, Reed City, Redding, Reading, Redmond, Raleigh/Durham, Rome, Chicago/Rockford, Rhinelander, San Jose, Richmond, Rifle, Riverton, Amboin, Rockland, Rockport, Rock Springs, Rockwood, Mc Minnville, Universal City, Reno, Renton, Roanoke, Rogers, Roswell, Roseau, Rice Lake, Roundup, Big Rapids, El Reno, Merrill, Warroad, Russell, Ruston, Raton, Gunim, Salisbury, Rutland, Reedsville, Tulsa, Redwood Falls, Rocky Mount, Rawlins, Rexburg, Rensselaer, Roanoke Rapids, Bandon, Sunriver, Madras, Prineville, Grangeville, Kennewick, Saratoga, Safford, Santa Fe, Savannah, Marquette, Santa Barbara, San Bernardino, Sheboygan, South Bend, San Luis Obispo, Steamboat Springs, Shelby, Scribner, Schenectady, Stockton, Scottsdale, San Diego/El Cajon, Sebring, Selinsgrove, Selma, Seymour, Sedona, Sanford, San Francisco, Pawtucket, Kisenden, Springfield, St Augustine, St George, Staunton/Waynesboro/Harrisonburg, Shelton, Sheridan, Sikeston, St Johns, San Angelo, Taos, Sandusky, Storm Lake, Salt Lake City, Salem, Siloam Springs, Saranac Lake, Sulphur Springs, Somerset, Salmon, Santa Monica, Sumter, Santa Maria, Santa Ana, Snyder, Shawnee, Salinas, Pinehurst/Southern Pines, Show Low, Kosipe Mission, Spartanburg, Spearfish, St Petersburg, Spencer, Sterling/Rockfalls, San Carlos, Sarasota/Bradenton, Ruidoso, St Cloud, Stevens Point, St Joseph, Sterling, St Louis, St Paul, Santa Rosa, Stuart, Stroud, Sturgeon Bay, Hailey, Superior, Sioux City, Silver City, Susanville, Statesville, Newburgh, Stillwater, Sweetwater, Shelbyville, Syracuse, Sylvester, Knob Noster, Tuba City, Trinidad, Thorne Bay, Fort Leonard Wood, Statesboro, Katiola, Tucumcari, Tuscaloosa, Tacoma, Truth Or Consequences, Toledo, Teterboro, Telluride, Thompson Falls, York, Titusville, Kunua, Kennett, Tallahassee, Tulare, Tifton, Tillamook, Twentynine Palms, Tonopah, Torrance, Toccoa, Troy, Torrington, Temple, Bristol/Johnson/Kingsport, Truckee, Terrell, Tehachapi, Tupelo, Traverse City, Thief River Falls, Thomasville, South Lake Tahoe, Twin Falls, Texarkana, Tyler, Knoxville, Glen Canyon Natl Rec Area, Nephi, Green River, Panguitch, Cascade, Utica, Union City, Waukesha, Chicago/Waukegan, Quillayute, North Wilkesboro, Ukiah, Quakertown, New Ulm, Athens/Albany, Juneau, State College, Sewanee, Kupiano, Tunica, Uvalde, Rock Hill, Valdosta, Mount Holly, Victorville, Vidalia, Kitava Island, Vernal, Van Horn, Rolla/Vichy, Visalia, Abingdon, Vicksburg, Vandalia, Venice, Van Nuys, Camp Douglas, Valparaiso, Vero Beach, Valentine, Gettysburg, Sequim, Wallops Island, Waynesburg, Wilkes-Barre, Winder, Waterfall, Winfield/Arkansas City, Willows, Winnemucca, West Point, Warner Robins, Wrightstown, Worland, White Sands, Westerly, Kurwina, Watsonville, Waterville, Wildwood, Woodward, Kiwai Island, Kiwayu, West Yellowstone, Kasaan, Fayetteville/Springdale/Rogers, Yakima, Yankton, Youngstown/Warren, Taldy Kurgan, Baikonur, Atbasar, Zachar Bay, Kaintiba, Zephyrhills, Zanesville, Spratley Islands, Tirana, Burgas, Gorna Oryahovitsa, Luabo, Plovdiv, Ruse, Sofia, Silistra, Stara Zagora, Targovishte, Varna, Larnarca, Loncopue, Paphos, Akrotiri, Dubrovnik, Lošinj, Osijek, Pula, Rijeka, Brač Island, Split, Lansdowne Station, Zagreb, Zemunik (Zadar), Albacete, Alicante, Almería, Ranón, Córdoba, Bilbao, Burgos, Barcelona, Badajoz, Castellón de la Plana, Culleredo, Madrid, Lleida, Girona, Granada, Monflorite/Alcalá del Obispo, Ibiza, Jerez de la Forntera, San Javier, Sabadell, León, Logroño, Málaga, Menorca Island, Morón, Lekoni, Palma De Mallorca, Pamplona, Ciudad Real, Reus, Rota, Salamanca, Hondarribia, Santiago de Compostela, La Seu d'Urgell Pyrenees and Andorra, Teruel, Valencia, Valladolid, Alava, Vigo, Santander, Zaragoza, Sevilla, Dieppe, Calais/Dunkerque, Albert/Bray, Le Touquet-Paris-Plage, Valenciennes/Denain, Agen/La Garenne, Bordeaux/Mérignac, Bergerac/Roumanière, Cognac/Châteaubernard, La Rochelle/Île de Ré, Poitiers/Biard, Montluçon/Guéret, Limoges/Bellegarde, Niort/Souché, Toulouse/Blagnac, Pau/Pyrénées (Uzein), Tarbes/Lourdes/Pyrénées, Angoulême/Brie/Champniers, Périgueux/Bassillac, Perigueux, Biarritz/Anglet/Bayonne, Cahors/Lalbenque, Albi/Le Séquestre, Castres/Mazamet, Rodez/Marcillac, Royan/Médis, Montauban, Rochefort/Saint-Agnant, Île d'Yeu, Colmar/Houssen, Dole/Tavaux, Verdun, Aubenas/Ardèche Méridional, Le Puy/Loudes, L'Alpe d'Huez, Metz / Nancy, Angers/Marcé, Bastia/Poretta, Calvi/Sainte-Catherine, Figari Sud-Corse, Ajaccio/Napoléon Bonaparte, Propriano, Solenzara, Auxerre/Branches, Chambéry/Aix-les-Bains, Clermont-Ferrand/Auvergne, Bourges, Annemasse, Courcheval, Lyon, Saint-Yan, Roanne/Renaison, Annecy/Meythet, Grenoble/Saint-Geoirs, Valence/Chabeuil, Vichy/Charmeil, Aurillac, Châteauroux/Déols, Lyon/Bron, Cannes/Mandelieu, Saint-Étienne/Bouthéon, Carcassonne/Salvaza, Marseille, Nice, Orange/Caritat, Perpignan/Rivesaltes, Le Castellet, Montpellier/Méditerranée, Béziers/Vias, Avignon/Caumont, Mende/Brénoux, Mende, Beauvais/Tillé, Évreux/Fauville, Le Havre/Octeville, Abbeville, Orléans/Bricy, Vatry, Les Sables-d'Olonne, Rouen/Vallée de Seine, Tours/Val de Loire (Loire Valley), Cholet/Le Pontreau, Laval/Entrammes, Creil, Issy-les-Moulineaux, Toussus-le-Noble, Cormeilles-en-Vexin, Villacoublay/Vélizy, Nevers/Fourchambault, Maubeuge/Élesmes, Lille/Lesquin, Merville/Calonne, Charleville-Mézières, Brest/Guipavas, Cherbourg/Maupertus, Dinard/Pleurtuit/Saint-Malo, La Baule-Escoublac, Granville, Deauville, Lorient/Lann/Bihoué, La Roche-sur-Yon/Les Ajoncs, Landivisiau, Caen/Carpiquet, Le Mans/Arnage, Rennes/Saint-Jacques, Lannion, Quimper/Pluguffan, Nantes, Saint-Brieuc/Armor, Morlaix/Ploujean, Vannes/Meucon, Saint-Nazaire/Montoir, Bâle/Mulhouse, Dijon/Longvic, Metz/Frescaty, Épinal/Mirecourt, Nancy/Essey, Belfort, Reims/Champagne, Strasbourg, Toulon/Hyères/Le Palyvestre, Fréjus, Nîmes/Garons, La Môle, Miquelon, Saint-Pierre, Andravida, Agrinion, Alexandroupolis, Nea Anchialos, Lake Gregory, Chios Island, Porto Cheli, Ikaria Island, Ioannina, Heraklion, Kastoria, Kithira Island, Kefallinia Island, Kastelorizo Island, Kalamata, Kos Island, Karpathos Island, Kerkyra Island, Kasos Island, Kavala, Kalymnos Island, Kozani, Leros Island, Limnos Island, Larisa, Laiagam, Mykonos Island, Milos Island, Mytilene, Linga Linga, Naxos Island, Paros Island, Astypalaia Island, Preveza/Lefkada, Rodes Island, Patras, Souda, Skiathos, Samos Island, Syros Island, Sparti, Santorini Island, Crete Island, Skiros Island, Thessaloniki, Zakynthos Island, Budapest, Debrecen, Miskolc, Lehu, Pécs-Pogány, Sármellék, Taszár, L'Aquila, Crotone, Bari, Foggia, Grottaglie, Pescara, Brindisi, Lamezia Terme (CZ), Comiso, Catania, Lampedusa, Pantelleria (TP), Palermo, Reggio Calabria, Trapani (TP), Sigonella (CT), Belluno (BL), Cortina D'Ampezzo, Ravenna, Alghero, Decimomannu, Cagliari, Olbia (SS), Oristano, Arbatax, Milan, Bergamo, Torino, Albenga (SV), Genova, Parma, Aosta, Cuneo, Aviano (PN), Bolzano, Udine, Bologna, Treviso, Forlì (FC), Montichiari (BS), Trieste, Rimini, Vicenza, Padova, Verona, Ancona, Lucca, Rieti, Siena, Sarzana (SP), Salerno, Marina  Di Campo, Latina, Nápoli, Pisa, Firenze, Grosetto, Perugia, Ljubljana, Portoroz, Lekana, Holešov, Uherské Hradiště, Karlovy Vary, Mariánské Lázně, Ostrava, Olomouc, Pardubice, Přerov, Prague, Brno, Vodochody, Zabreh, Khan Yunis, Tel Aviv, Beersheba, Eilat, Sapir, La Lima, Haifa, Rosh Pina, Kiryat Shmona, Lissadell Station, Masada, Yotvata, La Macarena, Gozo, Valletta, Palma, Fontvieille, Loani, Loen Island, Hohenems / Dornbirn, Lagos de Moreno, Graz, Innsbruck, Klagenfurt am Wörthersee, Linz, Salzburg, Vienna, Vila Franca de Xira, Vila do Porto, Bragança, Beja, Braga, Chaves, Corvo, Cascais, Santa Cruz das Flores, Santa Cruz da Graciosa, Horta, Praia da Vitória, Funchal, Ponta Delgada, Pico Island, Portimão, Porto, Vila Baleira, Lisbon, Velas, Vila Real, Viseu, Banja Luka, Mostar, Sarajevo, Tuzla, Arad, Bacău, Baia Mare, Bucharest, Constanţa, Cluj-Napoca, Caransebeş, Craiova, Iaşi, Lathrop, Oradea, Sibiu, Satu Mare, Suceava, Tulcea, Târgu Mureş, Timişoara, Geneva, Lausanne, Sion, Lugano, Bern, Buochs, Ascona, Grenchen, Zurich, Locarno, Altenrhein, Gökçeada, Ankara, Adana, Afyonkarahisar, Antalya, Gaziantep, Kastamonu, Konya, Amasya, Sivas, Zonguldak, Malatya, Kayseri, Tokat, Denizli, Nevşehir, Istanbul, Aydın, Bursa, Çanakkale, İzmir, Uşak, Dalaman, Çorlu, Eskişehir, Altıntaş, Elazığ, Diyarbakir, Erzincan, Erzurum, Kars, Trabzon, Şanlıurfa, Van, Batman, Muş, Siirt, Sinop, Kahramanmaraş, Adıyaman, Mardin, Şırnak, Hakkari, Hatay, Leitre, Isparta, Edremit, Bodrum, Samsun, Gazipaşa, Amargosa Valley, Bălți, Chişinău, Lublin, Santana do Livramento, Rafah, Lebak, Ohrid, Skopje, Gibraltar, Brak, Derna, Misratah, Ubari, Belgrade, Berane, Batajnica, Nis, Novi Sad, Podgorica, Tivat, Bratislava, Košice, Lučenec, Piešťany, Prešov, Sliač, Poprad, Žilina, Drummond, Goulimime, Ware, Mamai, Cockburn Town, Middle Caicos, Pine Cay, Providenciales Island, Salt Cay, Barahona, Cabo Rojo, Samana, Costanza, Santo Domingo, La Isabela, La Romana, Punta Cana, Puerto Plata, Medfra, San Juan, Santiago, Médouneu, Gabon, Limestone, Melfi, Moramanga, Doany, Coban, Carmelita, Coatepeque, Margarima, Guatemala City, Huehuetenango, Matagorda Island, Melchor de Mencos, Manga Mission, Puerto Barrios, Poptún, Santa Cruz del Quiche, Quezaltenango, Rubelsanto, Rio Dulce, Retalhuleu, Puerto San José, San Benito, Ailuk Island, Aur Atoll, Bikini Atoll, Ebadon Island, Ailinglapalap Atoll, Kaben, Likiep Island, Lae Island, Maloelap Island, Mejit Atoll, Majkin, Namorik Atoll, Rongelap Island, Arno Atoll, Jabor Jaluit Atoll, Woja, Wotje Atoll, Wotho Island, Ahuas, Brus Laguna, Catacamas, Marcala, La Unión, Coyoles, Cauquira, Olanchito, Gracias, Iriona, Jicalapa, Jutigalpa, La Ceiba, La Esperanza, San Pedro Sula, Mullen, Guanaja, Puerto Lempira, Roatan Island, Santa Rosa de Copán, Copán Ruinas, Comayagua, Tela, Tegucigalpa, Trujillo, Sulaco, Utila Island, Morehead, Yoro, Mainoru, Moki, Maganja, Ocho Rios, Montego Bay, Ken Jones, Babase Island, Negril, Tinson Pen, Mili Island, Malalaua, Hinthada, Tizimin, Acapulco, Aguascalientes, Huatulco, Cananea, Ciudad Acuña, Ciudad del Carmen, Culiacán, Chetumal, Ciudad Obregón, Comitán, Campeche, Ciudad Juárez, Chichen Itza, Chihuahua, Ciudad Victoria, Celaya, Cozumel, Ciudad Constitución, Ciudad Mante, Tepic, Ensenada, Guadalajara, Guaymas, Guerrero Negro, Hermosillo, Colima, Saltillo, Ixtepec, Xalapa, Lázaro Cárdenas, Los Mochis, Silao, La Paz, Loreto, Matamoros, Mérida, Mulege, Mexicali, Morelia, Minatitlán, Mexico City, Monterrey, Mazatlán, Nuevo Laredo, Oaxaca, Poza Rica, Puebla, La Ribera, Puerto Vallarta, Puerto Escondido, Querétaro, Reynosa, San Cristobal de las Casas, San José del Cabo, Reyes Acozac, San Luis Potosí, Torreón, Tuxtla Gutiérrez, Tijuana, Tampico, Toluca, Tapachula, Cancún, Mal Island, Villahermosa, Veracruz, Zacatecas, Ixtapa, Manzanillo, Mandalgobi, Ölgii, Bluefileds, Bonanza, Tola, Corn Island, Managua, Nueva Guinea, Hermit Islands, Puerto Cabezas, La Rosita, Siuna, Waspam, Morowali, Pedasi, Isla Colón, Chitré, Changuinola, David, Colón, Makini, Panamá City, Mamitupo, Jaqué, La Palma, Albrook, Puerto Obaldia, Río Hato, Tocumen, Tatau Island, El Porvenir, Wannukandi, Miyanmin, Malam, La Fortuna/San Carlos, Roxana, Punta Arenas, Pococi, Corredores, Puntarenas, Carrillo, Brasilito, Golfito, Nandayure, Liberia, Los Chiles, Puerto Limon, Cañas, Nicoya/Guanacate, Nicoya, Puerto Jimenez, Palmar Sur, Quepos, Rio Frio / Progreso, Coto Brus, Moroak, Tamarindo, Upala, Saint Martin, San Salvador (San Luis Talpa), Les Cayes, Cap Haitien, Fairbanks, Jacmel, Jeremie, Port-au-Prince, Port-de-Paix, Montepuez, Baracoa, Cayo Santa Maria, Bayamo, Ciego de Avila, Cayo Coco, Cienfuegos, Cayo Largo del Sur, Camaguey, Guantanamo Bay Naval Station, Guantánamo, Havana, Holguin, Matanzas, Pinar del Rio, Maisi, Mayajigua, Moa, San Nicolás, Nicaro, Nueva Gerona, Santa Clara, Pinar Del Rio, Isla de la Juventud, Sancti Spiritus, Varadero, Las Tunas, Manetai, Cayman Brac, Little Cayman, Motswari Private Game Reserve, Abreojos, Apatzingán, Solidaridad, Punta Chivato, Salina Cruz, Tulum, San Luis Río Colorado, Álamos, Mindik, Moussoro, Genting, Sungei Tekai, Long Banga, Long Lama, Mostyn, Sipitang, Mangrove Cay, Andros, Marsh Harbour, Andros Island, Spring Point, Treasure Cay, Bullocks Harbour, South Bimini, Arthur's Town, Cat Island, North Cat Cay, Colonel Hill, Pitts Town, George Town, North Eleuthera, Governor's Harbour, Rock Sound, Grand Bahama, West End, Matthew Town, May Creek, Deadman's Cay, Stella Maris, Abrahams Bay, Nassau, Moyale, San Salvador, Menyamya, Cape Eleuthera, Magaruque Island, Santa Carolina, Ibo, Chokwé, Bagani, Baishan, Aitutaki, Atiu Island, Mangaia Island, Manihiki Island, Mauke Island, Mitiaro Island, Pukapuka Atoll, Penrhyn Island, Avarua, Namudi, Nadunumu, Weeping Water, Saqani, Cakaudrove, Cicia, Castaway Island, Nadi, Malolo Lailai Island, Rabi Island, Vunisea, Mana Island, Moala, Nausori, Bureta, Ngau, Laucala Island, Lakeba Island, Matei, Koro Island, Rotuma, Savusavu, Bua, Vatukoula, Wakaya Island, Ono-i-Lau, Yasawa Island, Eua Island, Nuku'alofa, Lifuka, Angaha, Niuafo'ou Island, Niuatoputapu, Vava'u Island, Nanuya Levu Island, Vanua Balavu, Vatulele, Gombe, Warri, Abaiang, Beru, Funafuti, Kuria, Maiana, Marakei, Makin Island, Nikunau, Onotoa, Tarawa, Abemama Atoll, Tamana Island, Nonouti, Arorae Island, Tabiteuea South, Butaritari Atoll, Buariki, Alofi, Sinak, Ninglang, Futuna Island, Wallis Island, Nangade, Nomad River, Naoro Vilage, Mountain, Nipa, Crows Landing, Newry, Ofu Village, Asau, Apia, Fitiuta Village, Maota, Pago Pago, Mbatiri, Papeete, Rimatara Island, Apataki, Hikueru Atoll, Napuka Island, Tatakoto, Pukarua, Nukutavake, Ahe Atoll, Kauehi, Fakahina, Takume, Naiu Atoll, Katiu, Nukutepipi, Hiva Oa Island, Ua Pou, Ua Huka, Motu Mute, Tetiaroa, Fare, Uturoa, Tupai Atoll, Mururoa Atoll, Vahitahi, Hatton, Nuguria Island, Ablow, Sola, Loh/Linua, Emae Island, Craig Cove, Longana, Pentecost Island, Paama Island, Lamap, Lamen Bay, Maewo Island, Lonorore, Norsup, Gaua Island, Redcliffe, Luganville, Tongoa Island, Ambryn Island, Epi Island, Walaha, Malekula Island, Olpoi, Anatom Island, Aniwa, Dillon's Bay, Ipota, Quion Hill, Port Vila, Nowata, Tiga, Waala, Koné, Île des Pins, Houailou, Koumac, Lifou, Nouméa, Île Ouen, Poum, Mueo, Maré, Touho, Ouvéa, Auckland, Taupo, Manurewa, Christchurch, Waitangi, Dunedin, Claris, Gisborne, Glentanner Station, Kerikeri, Kaitaia, Alexandra, Auckland City, Masterton, New Plymouth, Napier, Nelson, Invercargill, Koromiko, Oban, Rotorua, Tauranga, Tokoroa, Taharoa, Twitzel, Blenheim, Wellington, Wairoa, Wanganui, Bamiyan, Bost, Chakcharan, Sardeh Band, Darwaz, Farah, Fayzabad, Ghazni, Khwahan, Bagram, Gardez, Kabul, Khost, Urgun, Qala-I-Naw, Sharana, Sheghnan, Tarin Kowt, Taloqan, Zaranj, Manama, Northbrook, Corisco Island, Abha, Ad Dammam, Dawadmi, Jizan, Gurayat, Ha'il, Jubail, Jeddah, King Khaled Military City, Medina, Qaisumah, Rafha, Riyadh, Arar, Al-Jawf, Tabuk, Ta’if, Turaif, Al Wajh, Yanbu, Zilfi, Ustupo, Abadan, Aghajari, Gachsaran, Omidiyeh, Ahwaz, Abu Musa, Bushehr, Asaloyeh, Kangan, Kish Island, Bandar Lengeh, Asalouyeh, Kermanshah, Ilam, Hesa, Kashan, Isfahan, Shahrekord, Rasht, Hamadan, Araak, Tehran, Qazvin, Karaj, Semnan, Bandar Abbas, Jiroft, Kerman, Havadarya, Birjand, Sarakhs, Mashhad, Bojnord, Sabzevar, Tabas, Kalaleh, Gorgan, Amol, Sari, Fasa, Jahrom, Lar, Lamerd, Shiraz, Yasouj, Khoy, Ardabil, Maragheh, Parsabad, Urmia, Tabriz, Showt, Zanjan, Yazd, Chabahar, Zahedan, Iranshahr, Jask, Amman, Aqaba, Jerusalem, Mafraq, Ahmed Al Jaber AB, Kuwait City, Okao, Beirut, Olsobip, Dibba Al-Baya, Adam, Duqm, Al Masna'ah, Al Ain, Omkalai, Osmanabad, Ras Al Khaimah, Sharjah, Tbeng Meanchey, Onange Mission, Buraimi, Fahud, Ghaba, Khasab, Masirah, Muscat, Marmul, Salalah, Sohar, Sur, Thumrait, Dadu, Bhagatanwala, Bannu, Bahawalnagar, Bahawalpur, Chitral, Chilas, Dalbandin, Dera Ghazi Khan, Dera Ismael Khan, Faisalabad, Gwadar, Gilgit, Jacobabad, Jiwani, Karachi, Hyderabad, Khuzdar, Kalat, Kohat, Lahore, Loralai, Mangla, Muzaffarabad, Mianwali, Moenjodaro, Sindhri, Kamra, Multan, Nawabashah, Nushki, Ormara Raik, Parachinar, Panjgur, Pasni, Peshawar, Quetta, Rahim Yar Khan, Rawalakot, Sibi, Skardu, Mirpur Khas, Sehwan Sharif, Sargodha, Saidu Sharif, Sialkot, Sui, Sahiwal, Tarbela, Badin, Taftan, Turbat, Waana, Fort Sandeman, Hīt, Al Habbaniyah, Bamarni, Balad, Baghdad, Mosul, Arbil, Kirkuk, Basrah, Najaf, Qayyarah, Sulaymaniyah, Aleppo, Damascus, Deir ez-Zor, Omora, Ossima, Kamishly, Latakia, Tadmur, Doha, Ar Rayyan, Cotriguaçu, Oria, Oum Hadjer, Orientos, Aden, Abbse, Al-Bayda, Al-Bough, Hodeida, Kamaran, Mareb, Mukayras, Qishn, Riyan, Sadah, Sana'a, Socotra Islands, Sayun, Ta'izz, Achutupo, Alligandi, Carti, Mulatupo, Playón Chico, Isla del Rey, Yaviza, Puerto Armuelles, Bahia Piña, El Real de Santa María, Contadora Island, Boca de Sábalo, Atka, Cold Bay, Port Alexander, Barter Island Lrrs, Bethel, Beluga, Delta Junction Ft Greely, Buckland, Big Mountain, Utqiaġvik, Bettles, Central, Chalkyitsik, Chefornak, Scammon Bay, Circle, Coldfoot, Yakataga, Cape Romanzof, Deering, Red Dog, Adak Island, Dillingham, Kodiak, Unalaska, Kongiganak, Anchorage, Eek, Cape Newenham, Elfin Cove, Emmonak, Newtok, Fairbanks/Ft Wainwright, Ambler, Fort Richardson(Anchorage), Nikolai, Five Mile, Farewell, Galena, Galbraith Lake, Kwigillingok, Shungnak, Gulkana, Golovin, Gambell, Angoon, Big Lake, Nightmute, Skagway, Holy Cross, Huslia, Haines, Homer, Hooper Bay, Hughes, Shageluk, Hydaburg, Igiugig, Kiana, Iliamna, Utopia Creek, McKinley Park, Wales, Koliganek, False Pass, Akhiok, Kipnuk, Koyuk, Kulik Lake, King Salmon, Nikolski, Anaktuvuk Pass, Kuparuk, Kaltag, Klawock, Karluk, Larsen Bay, Kalskag, Deadhorse, Chandalar Lake, Cape Lisburne, Manokotak, McGrath, Middleton Island, Minchumina, St Michael, Manley Hot Springs, Metlakatla, Mountain Village, Mccarthy, Mekoryuk, Napakiak, Aniak, Nenana, Nondalton, Funter Bay, Annette, Nulato, Anvik, New Stuyahok, Kobuk, Portage Creek, Hoonah, Nome, Toksook Bay, Northway, Kotzebue, Nelson Lagoon, Port Clarence, Perryville, Port Heiden, Napaskiak, Platinum, Pilot Point, Point Hope, Prospect Creek, Quinhagak, Nuiqsut, Arctic Village, Russian Mission, Ruby, Savoonga, Sand Point, Shishmaref, Sitka, Selawik, Sleetmute, St Mary's, St Paul Island, Seldovia, Sheep Mountain, Summit, Sparrevohn, Skwentna, Soldotna, Shemya, Tanana, Tin City, Teller, Togiak Village, Talkeetna, Takotna, Atqasuk, Alakanuk, Umiat, Unalakleet, Willow, Chevak, King Cove, Valdez, Venetie, Kivalina, Beaver, Seward, Wrangell, Wainwright, White Mountain, Noatak, Wasilla, Yakutat, Abariringa, Phongsaly, Pindiu, Presidente Dutra, Machu Pichu, Pelican, Akiak, Allakaket, Pacific City, Chenega, Clarks Point, Elim, Kasigluk, Kokhanok, Kotlik, Brevig Mission, Koyukuk, Kwethluk, Noorvik, Shaktoolik, Tok, South Naknek, Fort Yukon, Cape Rodney, Emirau Island, Erave, Esa'ala, Garaina, Gonaili, Bapi, Biangabip, Sengapi, Kibuli, Anguganak, Awaba, Bialla, Matalilu, Ewase, Chungribu, Gasmata Island, Bainyik, Ihu, Nissan Island, Jacquinot Bay, Kandrian, Kokoda, Kamusi, Kawito, Lumi, Lake Murray, Obo, Balimo, Suki, Tufi, Telefomin, Tol, Nuku, Sule, Baimuru, Wipim, Port Graham, Porto Alegro, Rota Island, Saipan Island, Yigo, Mariana Island, Hagåtña, Guam International Airport, Tinian Island, Cagayan de Oro City, El Nido, Kekaha, Mokuleia, Wahiawa, Hana, Lahaina, Kapolei, Kailua/Kona, Kaanapali, Lihue, Kalaupapa, Kaunakakai, Kamuela, Kaneohe, Honolulu, Lanai City, Kahului, Hanapepe, Camp Pohakuloa, Hilo, Hawi, Johnston Atoll, Islamabad, Bhurban, Campbellpore, Gujrat, Mansehra, Kadanwari, Chagai, Sawan, Shikarpur, Eniwetok Atoll, Majuro Atoll, Kaieteur Falls, Kwajalein, Banana, Paiela, Tabuaeran Island, Teraina, Sand Island, Phanom Sarakham, Pimaga, Point Lay, Nepesi, Batticaloa, Dorado, Humacao, Palmas del Mar, Weno Island, Pohnpei Island, Babelthuap Island, Okat, Yap Island, Puas Mission, Pureni, Wake Island, Port Walter, Bahía Negra, Fuerte Olimpo, Puerto Leda, Puerto La Victoria, Perry Island, Kili Island, Igaliku, Rakanda, Arawa, Rabaraba, Shang-I, Nangang Island, Taitung City, Lyudao, Kaohsiung City, Chiayi City, Hengchung, Taichung City, Orchid Island, Beigan Island, American River, Tainan City, Hsinchu City, Makung City, Pingtung, Taipei City, Taipei, Wang-an, Hualien City, Red Devil, Rehoboth Beach, Porgera, Badanjilin, Tokyo, Matsumoto, Omitama, Osaka, Shirahama, Kobe, Tajima, Obihiro, Chitose / Tomakomai, Hakodate, Kushiro, Ōzora, Nakashibetsu, Sapporo, Rebun, Wakkanai, Iki, Ube, Tsushima, Monbetsu, Asahikawa / Hokkaidō, Okushiri Island, Rishiri, Yakushima, Goto, Fukuoka, Tanegashima, Kagoshima, Miyazaki, Oita, Kitakyūshū, Saga, Kumamoto, Nagasaki, Tokoname, Amami, Okinoerabujima, Kikai, Tokunoshima, Nagoya, Gifu, Kanazawa, Okinoshima, Makinohara / Shimada, Toyama, Wajima, Hiroshima, Okayama City, Izumo, Yonago, Iwakuni, Matsuyama, Tottori, Tokushima, Takamatsu, Masuda, Aomori, Yamagata, Sado, Sukagawa, Akita, Misawa, Niigata, Odate, Sendai, Shonai, Hachijojima, Izu Oshima, Miyakejima, Fussa, Piseo-ri (Muan), Gwangju, Kunsan, Gonghang-ro (Mokpo), Jeon Ju, Yeosu, Chun Chon City, Jangsan-ri, Ganghyeon-myeon, Gangneung, Wonju, Gonghang-ro, Jeju City, Jeju Island, Jinhae, Busan, Sacheon, Ulsan, Pocheon, Seoul, Simgok-dong, Taean, Pohang, Daegu, Seosan, Cheongju, Yecheon-ri, Yule Island, Rokeby, Rosella Plains, Ramagundam, Rampart, Corvera, Robinson River, Naha, Kerama, Minamidaitō, Miyako City, Aguni, Ie, Hateruma, Kitadaitōjima, Shimojishima, Tarama, Yoronjima, Balesin, Olongapo City, Angeles/Mabalacat, Laoag City, Cuyo, Legazpi City, Cavite City, Surallah, Cotabato City, Davao City, Butuan City, Dipolog City, Malabang, Ozamiz City, Pagadian City, Mati, General Santos, Surigao City, Mapun, Ipil, Zamboanga City, Del Carmen, Taytay Airport, Sandoval Airport, Baguio City, Daet, Naga, Basco, Baler, Tuguegarao City, Virac, Gasan, Cauayan City, Roper Valley, Tacloban City, Bacolod City, Calbayog City, Dumaguete City, Malay, Catarman, Iloilo City, Masbate, Kalibo, Lapu-Lapu City, Ormoc City, Puerto Princesa City, Roxas City, Tagbilaran City, Tablas Island, Coron, Marromeu, Nogliki-Sakhalin Island, Grozny, Khandyga, Velikiy Ustyug, Kawbenaberi, River Cess, Lopez, Kenmore, Miramar, Colonia Catriel, Gualeguaychu, Junin, Parana, Rosario, Buenos Aires, La Cumbre, Cordoba, San Fernando, La Plata, El Palomar, Rafaela, Chos Malal, Lafontaine, General Roca, Rincon de los Sauces, Zapala, Salamo, Mendoza, Malargue, San Rafael, Catamarca, Santiago del Estero, La Rioja, Termas de Río Hondo, San Miguel de Tucumán, Ceres, Rio Cuarto, Villa Dolores, Villa Mercedes, Merlo, San Luis, Corrientes, Resistencia, Formosa, Puerto Iguazu, Paso de los Libres, Monte Caseros, Posadas, Salton City, Salta, San Salvador de Jujuy, Orán, Tartagal, Clorinda, Goya, Las Lomitas, Mercedes, Reconquista, Curuzu Cuatia, El Bolson, Comodoro Rivadavia, El Maiten, Esquel, Las Heras, Ingeniero Jacobacci, San Antonio Oeste, Maquinchao, Alto Rio Senguerr, Sierra Grande, Rawson, Viedma / Carmen de Patagones, Puerto Madryn, El Calafate, Puerto Deseado, Rio Grande, Rio Gallegos, Ushuahia, San Julian, Rio Mayo, Perito Moreno, Gobernador Gregores, Chubut, Rio Turbio, Bahia Blanca, Coronel Suarez, Olavarria, General Pico, Tres Arroyos, Santa Teresita, Mar del Plata, Neuquen, Necochea, Pehuajó, San Carlos de Bariloche, Tandil, Villa Gesell, Cutral-Co, Chapelco/San Martin de los Andes, Viru, 3 Marias, Conceição Do Araguaia, Araraquara, Aracaju, Alta Floresta, Araçatuba, Araxá, Belém, Bagé, Belo Horizonte, Curitiba, Bragança Paulista, Brasília, Barretos, Bauru, Boa Vista, Barra Do Garças, Cabo Frio, Cascavel, Caçador, Campo Grande, Chapecó, Carolina, Parauapebas, Criciúma, Caldas Novas, Campos Dos Goytacazes, Corumbá, Caravelas, Caxias Do Sul, Cuiabá, Cruzeiro Do Sul, Bonito, Presidente Prudente, Manaus, Jacareacanga, Espinosa, São Pedro Da Aldeia, Foz Do Iguaçu, Florianópolis, Fernando De Noronha, Fortaleza, Rio De Janeiro, Guajará-Mirim, Goiânia, Gavião Peixoto, São Paulo, Guarapuava, Governador Valadares, Guaratinguetá, Altamira, Itacoatiara, Itaituba, Ilhéus, Ipatinga, Itumbiara, Imperatriz, Jaguaruna, Juiz De Fora, João Pessoa, Juazeiro Do Norte, Joinville, Campina Grande, Campinas, Lençóis, Lages, Lins, Londrina, Bom Jesus Da Lapa, Lagoa Santa, Marabá, Minaçu, Almeirim, Macaé, Maringá, Montes Claros, Marília, Maceió, Macapá, Mossoró, Manicoré, Navegantes, Santo Ângelo, Oiapoque, Porto Alegre, Parnaíba, Poços De Caldas, Passo Fundo, Palmas, Pelotas, Petrolina, Porto Nacional, Ponta Porã, Porto Seguro, Porto Velho, Vitória Da Conquista, Rio Branco, Recife, Ribeirão Preto, Rio de Janeiro, Natal, São José Dos Campos, São Luís, Santarém, Sorriso, São José Do Rio Preto, Guarujá, Salvador, Taubaté, Oriximiná, Una, Teresina, Tefé, Tarauacá, Telêmaco Borba, Torres, Tabatinga, Tucuruí, São Gabriel Da Cachoeira, Paulo Afonso, Uruguaiana, Uberlândia, Uberaba, Varginha, Vilhena, Vitória, Pirassununga, Juiz de Fora, Ancud, Los Andes, Alto Palena, Arica, Puerto Aysen, Copiapo, Balmaceda, Tocopilla, Bahia Inutil, Chile Chico, Calama, Chillan, Coquimbo, Coyhaique, Iquique, El Salvador, Frutillar, Antofagasta, Porvenir, Futaleufu, Puerto Williams, Concepcion, Isla De Pascua, Osorno, Pica, Vallenar, Linares, Puerto Natales, Ovalle, Pucon, Dalcahue, Puerto Varas, Temuco, Scranton, Chañaral, Viña Del Mar, Rancagua, Isla Rey Jorge, Cerro Sombrero, La Serena-Coquimbo, San Felipe, Castro, Puerto Montt, Talca, Chaiten, Taltal, Valdivia, Botucatu, São Paulo De Olivença, Sorocaba, Monções, Dracena, Palmares Paulista, Altair, Garça, Saidor, Jaboticabal, Jales, São Joaquim Da Barra, Morro Agudo, Mococa, Lucélia, Leme, Lençóis Paulista, Matão, Mirassol, Mogi Mirim, Novo Horizonte, Nova Europa, Nova Iguaçu, Ourinhos, Ourilândia do Norte, Presidente Venceslau, Piracicaba, São Miguel Arcanjo, Rio Claro, Resende, São Carlos, Orlândia, Ubarana, Ubatuba, Itaperuna, Alagoinhas, Votuporanga, Pontal, Limeira, Ambato, Coca, Cuenca, Baltra, Guayaquil, Isabela, Jipijapa, Latacunga, Macará, Macas, Machala, Manta, Lago Agrio, Puerto Putumayo, Portoviejo, Quito, Sucua, Shell Mera, San Cristóbal, Bahía de Caraquez, Taisha, Tiputini, La Toma (Catamayo), Tachina, Tarapoa, Tulcán, Stanley, Safia, Asunción, Ayolas, Concepción, Encarnación, Ciudad del Este, Filadelfia, Cavite, Mariscal Estigarribia, Pilar, Pedro Juan Caballero, Las Perlas, Guaíra, Lucas do Rio Verde, Franca, Ipiguá, Sissano, Juara, Saint John Island, Confresa, Novo Progresso, Aragarças, El Encanto, Arboletes, Jurado, San Juan De Uraba, San Pedro de Urabá, Puerto Rico, Solano, Yari, Aguaclara, Currillo, Paratebueno, Pore, San Luis De Palenque, Tauramena, Ayacucho, Hacienda Borrero, Codazzi, San Juan Del César, Bahía Cupica, Villa Claret, Arquia, Ayapel, Barranco Minas, Macanal, Guacamayas, Santana Ramos, Barranca De Upia, Caquetania, Ruperto Polania, Solita, Uribe, El Charco, Mosquera, Iscuandé, Zapatoca, Campiña, Piedras, Costa Rica, Acaricuara, Monfort, Morichal, Casuarito, La Primavera, Araracuara, Acandí, Amalfi, Andes, Apiay, Armenia, Puerto Asís, El Banco, Bucaramanga, Barranquilla, Bahía Solano, Buenaventura, Capurganá, Cúcuta, Condoto, Cartagena, Puerto López, Cali, Cimitarra, Cravo Norte, Tumaco, Carurú, Caucasia, Coveñas, El Bagre, Barrancabermeja, Florencia, Fundación, Girardot, Cartago, Guapi, Chaparral, Hato Corozal, Ibagué, Chigorodó, Ipiales, Sitkinak Island, Carepa, Puerto Leguízamo, La Mina-Maicao, La Pedrera, Leticia, Medellín, Miraflores, Magangué, Montelíbano, Montería, Mitú, Manizales, Necocli, Nuquí, Neiva, Ocaña, Orocue, Remedios, Puerto Carreño, Puerto Inírida, Pereira, Pitalito, Plato, Popayán, La Dorada, Puerto Berrio, Pasto, Providencia, Paz De Ariporo, Mariquita, Riohacha, Saravena, San José Del Guaviare, Santa Rosalia, Santa Marta, Sogamoso, San Andrés, San Marcos, San Vicente Del Caguán, Tibú, Tolú, Tame, Tres Esquinas, Turbo, Arauca, Quibdó, Tuluá, Urrao, Villa Garzón, Puerto Boyacá, Valledupar, Villavicencio, El Yopal, El Bañado, Apolo, Ascensión de Guarayos, Bermejo, Camiri, Cochabamba, Chimore, Cobija, Guayaramerín, Itenes, Karijini National Park, San José de Chiquitos, San Joaquín, La Paz / El Alto, Magdalena, Oruro, Potosí, Puerto Rico/Manuripi, Puerto Suárez, San Ramón / Mamoré, Roboré, Riberalta, Reyes, Santa Ana del Yacuma, San Borja, San Ignacio de Velasco, San Ignacio de Moxos, Sucre, San Matías, Tarija, Quijarro, Vallegrande, Villamontes, Yacuíba, Albina, Totness, Drietabbetje, Sapmanga, Zandery, Moengo, Nieuw Nickerie, Paloemeu, Stoelmanseiland, Wageningen, Paramaribo, Alto Parnaíba, Arapiraca, Almenara, Assis, Barra Do Corda, Belmonte, Boquira, Barreiras, Balsas, Brumado, Barra, Campo Do Meio, Carutapera, Cururupu, Campina Verde, Colatina, Redenção, Leopoldina, Diamantina, Divinópolis, Canavieiras, Formiga, São Félix Do Xingu, Guarapari, Guadalupe, Guanambi, Grajaú, Garanhuns, Itabuna, Irecê, Iguatu, Itapetinga, Ipiaú, Jacobina, Feira De Santana, Jequié, Januária, São João Del Rei, Santana Do Araguaia, Cachoeiro Do Itapemirim, Colinas, Currais Novos, São Lourenço, Monte Alegre, Mombaça, Monte Santo De Minas, Mucuri, São Mateus, Porto De Moz, Nanuque, Morro Do Chapéu, Oeiras, Ouro Fino, Propriá, Passos, Feijó, Pastos Bons, Picos, Patos De Minas, Piatã, Patrocínio, Pompeu, Paraguaçu, Pirapora, Military Camp Number 2-D, Floriano, Magda, Prado, Rio Paranaíba, Caruaru, Riachão, Soure, Teixeira De Freitas, Óbidos, Monte Carmelo, Teófilo Otoni, Buritirama, Valença, Santa Maria Da Vitória, Conceição Das Alagoas, Três Corações, Breves, Camocim, Machado, Pinheiro, Cumaru Do Norte, Guimarães, Pouso Alegre, Ituberá, Borama, Gatokae, Sóc Trăng, Cayenne / Rochambeau, Grand-Santi, South Molle Island Resort, Maripasoula, Saint-Georges-de-l'Oyapock Airport, Saint-Laurent-du-Maroni, Saúl, Al Thaurah, San Juan Aposento, Andoas, Moyobamba, Bellavista, Iberia, Pucallpa, Chimbote, Tingo Maria, Chiclayo, Andahuaylas, Anta, Quince Mil, Uchiza, Rioja, Jaén, Juanjuí, Jauja, Juliaca, San Juan de Marcona, Cajamarca, Rodriguez de Mendoza, Ilo, Tumbes, Mazamari, Santa María, Yurimaguas, Huánuco, Plaza Saposoa, Chachapoyas, Iquitos, Arequipa, Pisco, Tarapoto, Shiringayoc, Tacna, Puerto Maldonado, Piura, Talara, Nazca, Cusco, Shangrao, Sanming, Samarai Island, Awaradam, Kasikasima, Sandringham Station, Scotts Valley, Stony River, Cruz Alta, Apucarana, Bento Gonçalves, Blumenau, Bandeirantes, Concórdia, Cassilândia, Canela, Cornélio Procópio, Dourados, São Sepé, Erechim, Francisco Beltrão, Guaporé, Horizontina, Ijuí, Itaqui, Joaçaba, Júlio De Castilho, Campo Mourão, Cachoeira Do Sul, Curitibanos, Cacoal, Laguna, Lontras, Alegrete, Mafra, Montenegro, Novo Hamburgo, Nonoaí, Nova Prata, São Miguel Do Oeste, Arapongas, Pato Branco, Paranaguá, Paranavaí, Paranaíba, Tanque Novo, Mundo Novo, São Lourenço Do Sul, Siassi, São Borja, Santa Cruz Do Sul, Soledade, São Gabriel, São Joaquim, Sertanópolis, Três Lagoas, Três Passos, White Sulphur Springs, Umuarama, Arujá, Siasi Island, Videira, Veranópolis, Santa Vitória Do Palmar, Volta Redonda, Pitangueiras, Venâncio Aires, Caçapava Do Sul, Sarandi, Xanxerê, Arapoti, Centenário Do Sul, Ponta Grossa, Artigas, Bella Union, Colonia del Sacramento, Durazno, Punta del Este, Melo, Paysandu, Rivera, Salto, Tacuarembo, Treinta y Tres, Vichadero, Suria, Acarigua, Anaco, Guayabal, Barinas, Barquisimeto, Maracay, Zaraza, Casigua El Cubo, Guarico, Canaima, Carora, Carúpano, Coro, Puerto Paez, Bolivar, Guanare, Higuerote, Isla de Coche, Paraguaná, Maracaibo, Isla Margarita, Caracas, Cabimas, Puerto Ayacucho, Puerto Ordaz-Ciudad Guayana, Palmarito, Gran Roque Island, Stevens Village, Santa Bárbara, Inglaterra, El Tigre, Tucupita, El Vigía, Valera, Araguaiana, Buriti Alegre, Barcelos, Pontes e Lacerda, Borba, Carauari, Costa Marques, Diamantino, Dianópolis, Siwea, Eirunepé, Canarana, São Félix Do Araguaia, Satwag, Gurupi, Araguaína, Humaitá, Iaciara, Santo Antônio Do Içá, Cristalândia, Ji-Paraná, Juína, Juruena, Jataí, Cáceres, Coari, Catalão, Lábrea, Rio Verde, Maués, Novo Aripuanã, Ariquemes, Boca do Acre, Niquelândia, Anápolis, Fonte Boa, Porto Dos Gaúchos, Parintins, Pimenta Bueno, Porto Alegre Do Norte, Silur Mission, Arraias, Rondonópolis, Aripuanã, Santa Terezinha, Santa Isabel Do Rio Negro, Tangará Da Serra, Sapezal, Taguatinga, São Miguel Do Araguaia, Vila Bela Da Santíssima Trindade, Vila Rica, Matupá, Nova Xavantina, Sehulea, Nunam Iqua, Aishalton, Annai, Seal Bay, Baramita, Bartica, Gabriola Island, Ogle, Imbaimadai, Kamarang, Karanambo, Karasabai, Kato, Konawaruk, Camp Roberts/San Miguel, Lumid Pau, Lethem, Mabaruma, Mahdia, Monkey Mountain, Matthews Ridge, Stanton, New Amsterdam, Orinduik, Paramakatoi, Paruma, Sand Creek, Skeldon, Santa Paula, Tarapaina, Codrington, Tabibuga, Timbunke, Bridgetown, Tarabo, Tabal Island, Tinboli, Tetebedi, Canefield, Marigot, Sasereme, Terapo Mission, Tifalmin, Grande Anse, Basse Terre, St-François, Fort-de-France, Grand Case, Gustavia, Grand Bourg, Pointe-à-Pitre, Les Saintes, Tarfaya, Sudest Island, Saint George's, Carriacou Island, Trincomalee, Tingwon Island, Charlotte Amalie, Harry S. Truman Airport, Christiansted, Arecibo, Aguadilla, Ticantiqui, Vieques Island, Culebra Island, Fajardo, Mayaguez, Ponce, Ceiba, Tenakee Springs, Taku Lodge, Basseterre, Charlestown, Tumolbil, Castries, Vieux Fort, Tuluksak, Enfidha, Oranjestad, Kralendijk, Willemstad, Sint Eustatius, Saba, Tena, Torokina, Port Alsworth, Tapeta, The Valley, Bingöl, Ordu, Iğdır, Gerald's Park, Tanacross, Tsile Tsile, Taskul, Scarborough, Port of Spain, Tissamaharama, Isla Tupile, Tum, Anegada, Road Town, Spanish Town, Tauta, Tucuma, Kingstown, Bequia, Canouan, Mustique Island, Union Island, Pratas Island, Chi Mei, Two Harbors, Tyonek, Geita, Lushoto, Myrhorod, Kremenchuk, Almaty, Balkhash, Aima Ata, Astana, Kokshetau, Petropavlosk, Taraz, Tamchy, Bishkek, Osh, Shymkent, Zhezkazgan, Karaganda, Kzyl-Orda, Uralsk, Ekibastuz, Zaysan, Ust Kamenogorsk, Pavlodar, Semey, Aktau, Atyrau, Aktyubinsk, Arkalyk, Kostanay, Ganja, Lankaran, Nakhchivan, Gabala, Zaqatala, Yevlakh, Buin, Gyumri, Yerevan, Batagay, Batagay-Alyta, Ust-Kuyga, Talakan Oil Field, Aldan, Yakutsk, Neryungri, Khonuu, Magan, Olyokminsk, Ust-Nera, Ust-Maya, Verkhnevilyuisk, Nyurba, Suntar, Vilyuisk, Lensk, Olenyok, Yakutia, Mirny, Saskylakh, Belaya Gora, Srednekolymsk, Chokurdah, Cherskiy, Tiksi, Zyryanka, Moyo, Kutaisi, Batumi, Sukhumi, Tbilisi, Blagoveschensk, Magdagachi, Tynda, Khabarovsk, Komsomolsk-on-Amur, Sovetskaya Gavan, Anadyr, Chukotka, Magadan, Markovo, Pevek, Bogorodskoye, Nikolayevsk-na-Amure Airport, Okhotsk, Petropavlovsk-Kamchatsky, Iturup Island, Okha, Kurilsk, Shakhtersk, Kunashir Island, Tymovskoye, Yuzhno-Sakhalinsk, Amgu, Svetlaya, Yedinka, Kavalerovo, Plastun, Vladivostok, Chita, Bratsk, Ust-Ilimsk, Irkutsk, Bodaybo, Erbogachen, Kirensk, Ust-Kut, Ulan Ude, Ujae Atoll, Bongsan-ri, Uljin, Kiev, Donetsk, Kramatorsk, Mariupol, Sievierodonetsk, Luhansk, Berdyansk, Dnipropetrovsk, Zaporizhia, Kryvyi Rih, Sevastopol, Simferopol, Kerch, Mukhaizna Oil Field, Kharkiv, Poltava, Sumy, Cherkasy, Kirovograd, Lutsk, Khmelnytskyi, Ivano-Frankivsk, Lviv, Chernivtsi, Rivne, Uzhhorod, Kherson, Nikolayev, Odessa, Chernigow, Vinnitsa, Archangelsk, Leshukonskoye, Naryan Mar, Solovetsky Islands, Cherepovets, Amderma, Varandey, Al Ula, Kotlas, St. Petersburg, Apatity, Murmansk, Velikiy Novgorod, Velikiye Luki, Pskov, Petrozavodsk, Vologda, Brest, Gomel, Vitebsk, Kaliningrad, Hrodna, Minsk, Mogilev, Abakan, Barnaul, Gorno-Altaysk, Kemerovo, Yeniseysk, Bor, Krasnoyarsk, Achinsk, Kyzyl, Novosibirsk, Omsk, Strezhevoy, Tomsk, Novokuznetsk, Dikson, Khatanga, Igarka, Norilsk, Turukhansk, Castilho, Anapa, Yeysk, Gelendzhik, Krasnodar, Makhachkala, Mineralnyye Vody, Nalchik, Beslan, Magas, Stavropol, Rostov-on-Don, Taganrog, Sochi, Astrakhan, Elista, Volgograd, Spirit Lake, Bethpage, Chelyabinsk, Magnitogorsk, Sabetta, Salekhard, Mys Kamennyi, Krasnoselkup, Tarko-Sale, Urengoy, Khanty-Mansiysk, Nyagan, Sovetskiy, Uray, Izhevsk, Kirov, Nadym, Novy Urengoy, Nizhnevartovsk, Raduzhnyi, Usino, Perm, Kogalym, Nefteyugansk, Noyabrsk, Surgut, Yekaterinburg, Tobolsk, Tyumen, Kurgan, Balkanabat, Goulding's Lodge, Ashgabat, Krasnovodsk, Mary, Daşoguz, Türkmenabat, Dushanbe, Kulyab, Khudzhand, Kurgan-Tyube, Andizhan, Fergana, Namangan, Nukus, Urgench, Navoi, Bukhara, Khanabad, Zarafshan, Samarkand, Termez, Tashkent, Kostroma, Moscow, Kaluga, Ivanovo, Rybinsk, Bryansk, Tver, Belgorod, Kursk, Lipetsk, Voronezh, Orel, Tambov, Manumu, Ryazan, Tula, Ukhta, Inta, Pechora, Usinsk, Vorkuta, Ust-Tsylma, Syktyvkar, Nizhny Novgorod, Bugulma, Kazan, Nizhnekamsk, Yoshkar-Ola, Cheboksary, Zhigansk, Ulyanovsk, Orenburg, Orsk, Penza, Saransk, Balakovo, Saratov, Beloretsk, Neftekamsk, Kzyl-Yar, Ufa, Samara, Rocha, Urzhar, Rewa, Diu, Ahmedabad, Akola, Aurangabad, Mumbai, Bilaspur, Bhuj, Belgaum, Vadodara, Bhopal, Bhavnagar, Vasco da Gama, Hubli, Indore, Jamnagar, Kandla, Khajuraho, Nanded, Naqpur, Nasik, Pune, Porbandar, Rajkot, Raipur, Shirdi, Solapur, Udaipur, Anuradhapura, Polonnaruwa Town, Jaffna, Galle, Kalutara, Sigiriya, Weerawila, Battambang, Kampong Chhnang, Kaoh Kong, Kratie, Sen Monorom, Phnom Penh, Ratanakiri, Siem Reap, Stung Treng, Sihanukville, Krakor, Isla de Tigre, Lagunillas, Kamarata, La Guaira, Ciudad Guayana, San Salvador de Paul, Wonken, Agartala, Siliguri, Balurghat, Shillong, Bhubaneswar, Kolkata, Durgapur, Daporijo, Gorakhpur, Guwahati, Imphal, Jeypore, Jamshedpur, Jorhat, Silchar, Khowai, Aizawl, Lilabari, Malda, Dibrugarh, Dimapur, Pasighat, Patna, Ranchi, Visakhapatnam, Ziro, Barisal, Cox's Bazar, Comilla, Chittagong, Ishurdi, Jashahor, Lalmonirhat, Rajshahi, Saidpur, Thakurgaon, Shamshernagar, Sylhet, Dhaka, Hong Kong, Charlotte Amalie St Thomas, Christiansted St Croix, Allahabad, Amritsar, Adampur, Bikaner, Varanasi, Bareilly, Chandigarh, Kanpur, Dehradun, New Delhi, Gwalior, Jodhpur, Jaipur, Jammu, Ajmer, Kota, Leh, Lucknow, Pathankot, Pantnagar, Srinagar, Vivigani, Gurue, Attopeu, Huay Xai, Luang Phabang, Luang Namtha, Oudomsay, Pakse, Sainyabuli, Saravane, Thakhek, Vientiane, Xieng Khouang, Xienglom, Puerto Vallemi, Macau, Dong Hoi, Kontum, Bajhang, Bhojpur, Baglung, Bharatpur, Bajura, Baitadi, Bhairawa, Bhadrapur, Dang, Dhangarhi, Darchula, Dolpa, Silgadi Doti, Gorkha, Jiri, Jumla, Janakpur, Jomsom, Kathmandu, Lamidanda, Lukla, Langtang, Ngawal, Meghauli, Mahendranagar, Nepalgunj, Pokhara, Phaplu, Rajbiraj, Ramechhap, Rukumkot, Rolpa, Rumjatar, Namche Bazaar, Simara, Surkhet, Sanfebagar, Simikot, Taplejung, Tikapur, Tumling Tar, Biratnagar, Latur, Thoothukudi, Bellary, Bangalore, Coimbatore, Kochi, Calicut, Kadapa, Kannur, Madurai, Mangalore, Chennai, Mysore, Port Blair, Pondicherry, Puttaparthi, Rajahmundry, Thanjavur, Tirupati, Tiruchirappally, Thiruvananthapuram, Warangal, Tashigang, Jakar, Gelephu, Paro, Ifuru Island, Baa Atoll, Fuvahmulah Island, Gan, Haa Dhaalu Atoll, Kadhdhoo, Malé, Huvadhu Atoll, Kudahuvadhoo, Maamigili, Thimarafushi, Bangkok, Nakhon Pathom, Rayong, Chiang Mai, Mae Hong Son, Chiang Rai, Ban Mak Khaen, Hua Hin, Uttaradit, Surat Thani, Nakhon Si Thammarat, Krabi, Na Thon (Ko Samui Island), Phuket, Hat Yai, Udon Thani, Surin, Khon Kaen, Ubon Ratchathani, Liwonde National Park, Buon Ma Thuot, Dung Quat Bay, Haiphong, Ca Mau City, Nha Trang, Con Dao, Can Tho, Dien Bien Phu, Da Lat, Da Nang, Las Malvinas, Hanoi, Son-La, Hue, Quy Nohn, Pleiku, Phu Quoc Island, Phan Rang, Phan Thiet, Rach Gia, Tuy Hoa, Ho Chi Minh City, Thanh Hóa, Vinh, Vung Tau, Aeng, Nyaung U, Banmaw, Bokpyinn, Dawei, Pyinmana, Gangaw, Gwa, Heho, Hommalinn, Tilin, Kengtung, Kanti, Kalemyo, Kyaukpyu, Kawthoung, Kyauktu, Loikaw, Lashio, Mandalay, Mkeik, Myitkyina, Mawlamyine, Manaung, Mong Hsat, Mong Tong, Magway, Monywar, Namsang, Namtu, Hpa-N, Pauk, Pathein, Pa Pun, Putao, Pakhokku, Pye, Sittwe, Thandwe, Tachileik, Ye, Yangon, Roche Harbor, Waha-Tomea Island, Westsound, Ujung Pandang-Celebes Island, Mamuju-Celebes Island, Wabag, Biak-Supiori Island, Moanamani-Papua Island, Wagethe-Papua Island, Nabire-Papua Island, Illaga-Papua Island, Kokonau-Papua Island, Serui-Japen Island, Timika-Papua Island, Enarotali-Papua Island, Andriamena, Mataram-Lombok Island, Bima-Sumbawa Island, Denpasar-Bali Island, Mataram, Sumbawa Island, Waikabubak-Sumba Island, Waingapu-Sumba Island, Arso-Papua Island, Bokondini, Sarmi-Papua Island, Jayapura-Papua Island, Lereh-Papua Island, Mulia-Papua Island, Oksibil-Papua Island, Swach, Senggeh, Ubrub-Papua Island, Wamena-Papua Island, Mindiptana-Papua Island, Bade, Merauke-Papua Island, Okaba-Papua Island, Kepi-Papua Island, Tanah Merah-Papua Island, Tanjung Selor-Borneo Island, Datadawai-Borneo Island, Tanjung Redeb - Borneo Island, Kotamadya Balikpapan, Tarakan Island, Samarinda, Santan-Borneo Island, Bunju Island, Galela-Celebes Island, Gorontalo-Celebes Island, Tahuna-Sangihe Island, Toli Toli-Celebes Island, Gebe Island, Kao-Celebes Island, Palu-Celebes Island, Manado-Celebes Island, Karakelong Island, Poso-Celebes Island, Gotalalamo-Morotai Island, Sango-Ternate Island, Luwok - Celebes Island, Buol-Celebes Island, Waverney, Batu Licin-Borneo Island, Pangkalanbun-Borneo Island, Stagen - Laut Island, Tanta-Tabalong-Borneo Island, Banjarmasin-Borneo Island, Palangkaraya-Kalimantan Tengah, Sampit-Borneo Island, Amahai-Seram Island, Banda-Naira Island, Dobo-Warmar Island, Mangole Island, Namrole-Buru Island, Labuha-Halmahera Island, Saumlaki-Yamdena Island, Maikoor Island, Langgur-Seram Island, Sanana-Seram Island, Ambon, Namlea-Buru Island, Tikong-Taliabu Island, Seram Island, Malang-Java Island, Tjepu-Java Island, Yogyakarta-Java Island, Sukarata(Solo)-Java Island, Surabaya, Semarang-Java Island, Sumenep-Madura Island, Karimunjawa, Bintuni, Ransiki-Papua Island, Kebar-Papua Island, Fakfak-Papua Island, Inanwatan Airport-Papua Island, Kaimana-Papua Island, Merdei-Papua Island, Babo-Papua Island, Manokwari-Papua Island, Atinjoe-Papua Island, Wasior-Papua Island, Bajawa, Maumere-Flores Island, Ende-Flores Island, Satar Tacik-Flores Island, Alor Island, Labuan Bajo - Flores Island, Kupang-Timor Island, Bau Bau-Butung Island, Masamba-Celebes Island, Soroako-Celebes Island, Makale, Kendari-Celebes Island, Sorong-Papua Island, Stebbins, Wapolu, Bintulu, Belaga, Long Semado, Long Datih, Kuching, Long Seridan, Limbang, Mukah, Long Akah, Marudi, Sematan, Kapit, Bakalalan, Miri, Sibu, Tanjung Manis, Long Sukang, Lawas, Sri Aman, Bario, Semporna, Lahad Datu, Telupid, Keningau, Sahabat, Kota Kinabalu, Labuan, Tomanggong, Long Miau, Sepulot, Pamol, Ranau, Sandakan, Kudat, Tawau, Mulu, Bandar Seri Begawan, Weatherford, Wedau, Wagau, Wagny, Welshpool, Cijulang, Bandar Lampung-Sumatra Island, Pekanbaru-Sumatra Island, Dumai-Sumatra Island, Sipora Island, Bengkalis-Sumatra Island, Tanjung Balai-Karinmunbesar Island, Bandung-Java Island, Cirebon-Java Island, Tasikmalaya-Java Island, British Armed Forces, Batam Island, Pasir Pengarayan-Sumatra Island, Tanjung Pinang-Bintan Island, Pasirkuning-Singkep Island, Cilacap-Java Island, Gunung Sitoli-Nias Island, Padang Sidempuan-Sumatra Island, Medan-Sumatra Island, Siborong-Borong, Parapat-Sumatra Island, Sibolga-Sumatra Island, Tanjung Pandan-Belitung Island, Nanga Pinoh-Borneo Island, Ketapang-Borneo Island, Matak Island, Ranai-Natuna Besar Island, Pontianak-Borneo Island, Putussibau-Borneo Island, Sintang-Borneo Island, Jambi-Sumatra Island, Muara Bungo, Pangkal Pinang-Palaubangka Island, Bengkulu-Sumatra Island, Palembang-Sumatra Island, Talang Gudang-Sumatra Island, Rengat-Sumatra Island, Ketaping/Padang - Sumatra Island, Muko Muko-Sumatra Island, Keluang-Sumatra Island, Tapak Tuan-Sumatra Island, Sabang-We Island, Peureumeue-Sumatra Island, Lhok Sukon-Sumatra Island, Lhok Seumawe-Sumatra Island, Banda Aceh, Taman Negara, Mersing, Sitiawan, Taiping, Pulau Tioman, Alor Satar, Butterworth, Kota Baharu, Kuantan, Kerteh, Ipoh, Johor Bahru, Kuala Lumpur, Langkawi, Malacca, Kuala Terengganu, Penang, Pangkor Island, Redang, Subang, Wanuma, Atauro, Suai, Dili, Baucau, Maliana, Oecussi-Ambeno, Viqueque, Atambua-Timor Island, Larantuka-Flores Island, Ba'a - Rote Island, Sabu-Sawu Island, Sanggata/Sangkimah, Long Bawan-Borneo Island, Bontang-Borneo Island, Nunukan-Nunukan Island, Tanah Grogot-Borneo Island, Long Apung-Borneo Island, Senipah, Wasua, Steamboat Bay, Wiseman, Seletar, Singapore, Wantoat, Wuvulu Island, Urad Middle Banner, Blubber Bay, Biniguni, Xinguara, Long Xuyên, Maramag, Quảng Ngãi, Smolensk, Vinh Long, Waukon, Saturna Island, Alpha, Maple Bay, Armidale, Aurukun, Ayers Rock, Brisbane, Bamaga, Barcaldine, Alice Springs, Big Bell, Gold Coast, Blackall, Cairns, Charleville, Pumululu National Park, Beagle Bay, Balgo, Bull Harbour, Broken Hill, Hamilton Island, Lakefield National Park, Baie-Johan-Beetz, Mount Isa, Maroochydore, Mackay, Ballina, Proserpine, Thetis Island, Rockhampton, Broome, Townsville, Bundaberg, Weipa, Toowoomba, Carnarvon, Canobie, Cloncurry, Cortes Bay, Clifton Hills, Cherrabah Homestead Resort, Christmas Creek Mine, Cordillo Downs, Coen, Collie, Cooma, Carpentaria Downs, Christmas Creek, Coondewanna, Coolawanyah Station, Drumduff, New Dixie, Dunk Island, Dulkaninna, Deniliquin, Daly Waters, Darnley Island, Dorunda Outstation, Devonport, Stradbroke Island, Wadi Ain, Etadunna, Eneabba, Einasleigh, Elcho Island, Emerald, Elrose Mine, Esperance, Eva Downs, Forbes, Cloudbreak Village, Flinders Island, Finke, Forrest River Mission, Gordon Downs, Gorge Harbour, Ginbata, Great Keppel Island, Gladstone, Broughton Island, Grenfell, Mount Gordon Mine, Gascoyne Junction, Groote Eylandt, Griffith, Hawker, Hervey Bay, Horn Island, Hillside, Lajamanu, Mount Hotham, Hope Vale, Injune, Inverway, Inverell, Kambalda, Kalbarri, Kings Canyon Resort, Kirkimbie, Koolburra, Kowanyama, Kalpower, Klemtu, Moa Island, Kurundi Station, Leonora, Lakefield, Lord Howe Island, Lockhart River, Lyndhurst, Limbunya, Lindeman Island, Lismore, Alpurrurulam, Lakeland Downs, Lock, Lotus Vale, Mingan, Longreach, Morwell, Mabuiag Island, Albury, Mudgee, Mandora, Merimbula, Merluna, Milingimbi Island, Maningrida, Mount Gunson, Musgrave, McArthur River Mine, Mildura, Mitchell Plateau, Launceston, Murrin Murrin, Moree, Moreton, Marqua, Moranbah, Moruya, Muccan Station, Mungeranie, Murray Island, Mulka, Moolawatana Station, Marion Downs, Maryborough, Narrandera, Narrabri, Nambucca Heads, Basalt, Napperby, Narrogin, Normanton, Nutwood Downs, Newman, Éléonore Mine, Olympic Dam, Orange, Ord River, Adelaide, Paraburdoo, Cocos (Keeling) Islands, Kangaroo Island, Darwin, Pardoo, Nhulunbuy, Karratha, Kalgoorlie, Parkes, Kununurra, Port Lincoln, Exmouth, OZ Minerals Prominent Hill Mine, Pormpuraaw, Port Macquarie, Penong, Port Hedland, Ironstone, Woomera, Christmas Island, Quadra Island, Desolation Sound, Kimsquit Valley, Roebourne, Roper Bar, Sandstone, Canberra, Coffs Harbour, Dubbo, Singleton, Shay Gap, Denham, Saibai Island, Burnt Pine, Stephens Island, Tamworth, Silver Plains, Wagga Wagga, Tarcoola, Pattaya, Trepell, Theda Station, Turkey Creek, Phosphate Hill, Tobermorey, Tanbar Station, Biloela, Tennant Creek, Taree, Anjo Peninsula, Tasu, Wallal, Sue Islet, Windarling Mine, Wondoola, Wando Vale, Whyalla, Williamtown, Sale, Woodie Woodie, West Wyalong, Burnie, Yueyang, Yalgoo, Yorke Island, Yam Island, Yalata Mission, Akiachak, Bear Creek, Cape Pole, Birch Creek, Copper Center, Ulusaba, Welverdiend, Hazyview, Khoka Moya, Mkambati, Inyati, Tshipise, Singita Safari Lodge, Koingnaas, Beijing, Chengde, Changzhi, Qinhuangdao, Ordos, Datong, Erenhot, Arxan, Handan, Hohhot, Holingol, Žabljak Airport, Hailar, Linfen, Lüliang, Baotou, Shijiazhuang, Tianjin, Tongliao, Ulanqab, Wuhai, Ulanhot, Xilinhot, Xingtai, Xinzhou, Yuncheng, Taiyuan, Bavannur, Zhalantun, Delma Island, Zenag, Beihai, Changde, Huaihua, Dayong, Guangzhou, Changsha, Hechi, Shihezi, Hengyang, Guilin City, Yongzhou, Meixian, Nanning, Shantou, Zhuhai, Shaoyang, Shenzhen, Wuzhou, Xingning, Liuzhou, Zhanjiang, Anyang, Enshi, Guanghua, Wuhan, Luoyang, Nanyang, Shennongjia, Shashi, Shiyan, Xiangfan, Yichang, Zamzama Gas Field, Haikou, Qionghai, Sanya, Pyongyang, Sŏndŏng-ni, Wonsan, Ankang, Dunhuang, Delingha, La Güera, Golmud, Guyuan, Mengnai, Hanzhong, Jining, Jiayuguan, Lanzhou, Longnan, Qingyang, Xi'an, Xiahe, Xining, Yan'an, Yulin, Zhongwei, Arvaikheer, Altai, Bayankhongor, Bulgan, Umnugobitour, Sena Madureira, Uliastai, Dalanzadgad, Khujirt, Khovd, Mörön, Tselserleg, Tosontsengel, Ulan Bator, Ulaangom, Nyac, Cangyuan Va Autonomous County, Xiaguan, Shangri-La, Jinghong, Lancang Lahu Autonomous County, Lijiang, Luxi, Kunming, Pu'er, Wenshan, Zhaotong, Xiamen, Anqing, Bengbu, Changzhou, Nanchang, Fuyang, Fuzhou, Ganzhou, Hangzhou, Jingdezhen, Jiujiang, Jinan, Quzhou, Longyan, Lianyungang, Huangyan, Linyi, Ningbo, Nanjing, Hefei, Shanghai, Qingdao, Quanzhou, Rugao, Rizhao, Suzhou, Huangshan, Weifang, Weihai, Wuhu, Wuxi, Wuyishan, Wenzhou, Xuzhou, Yangzhou and Taizhou, Yichun, Yancheng, Yantai, Yiwu, Zhoushan, Shiquanhe, Anshun, Bangda, Bijie, Chongqing, Daocheng County, Dazhou, Civil Aviation Flight University of China, Guangyuan, Guiyang, Jiuzhaigou, Kangding, Huangping, Libo County, Liangping, Lhasa, Luzhou, Öndörkhaan, Zunyi, Mianyang, Nanchong, Liping, Nyingchi, Liupanshui, Tengchong, Chengdu, Wanxian, Xichang, Yibin, Xingyi, Aksu, Bole, Qiemo, Fuyun, Hami, Kuqa, Korla, Karamay, Burqin, Xinyuan County, Shache, Kashgar, Shanshan, Tacheng, Hotan, Turpan, Ürümqi, Yining, Anshan, Changchun, Changhai, Chaoyang, Wudalianchi, Fuyuan, Harbin, Heihe, Jilin, Jiamusi, Jiansanjiang, Jixi, Jinzhou, Yushu, Mudanjiang, Mohe, Qiqihar, Qian Gorlos Mongol Autonomous County, Dalian, Tonghua, Shenyang, Yanji, Yingkou\""
      ]
     },
     "execution_count": 34,
     "metadata": {},
     "output_type": "execute_result"
    }
   ],
   "source": [
    "\", \".join([x for x in cities])"
   ]
  },
  {
   "cell_type": "code",
   "execution_count": 14,
   "metadata": {},
   "outputs": [
    {
     "data": {
      "text/plain": [
       "(7722,)"
      ]
     },
     "execution_count": 14,
     "metadata": {},
     "output_type": "execute_result"
    }
   ],
   "source": [
    "df['municipality'].unique().va"
   ]
  },
  {
   "cell_type": "code",
   "execution_count": 67,
   "metadata": {},
   "outputs": [],
   "source": [
    "import json \n",
    "with open(\"iata.json\",\"r\") as f:\n",
    "    iata=json.load(f)"
   ]
  },
  {
   "cell_type": "code",
   "execution_count": 84,
   "metadata": {},
   "outputs": [],
   "source": [
    "dff=pd.DataFrame(iata)\n"
   ]
  },
  {
   "cell_type": "code",
   "execution_count": 97,
   "metadata": {},
   "outputs": [
    {
     "data": {
      "text/plain": [
       "'ISB'"
      ]
     },
     "execution_count": 97,
     "metadata": {},
     "output_type": "execute_result"
    }
   ],
   "source": [
    "dff[dff['city']=='Islamabad']['iata'].values.tolist()[0]"
   ]
  },
  {
   "cell_type": "code",
   "execution_count": 99,
   "metadata": {},
   "outputs": [
    {
     "name": "stdout",
     "output_type": "stream",
     "text": [
      "Origin city: Islamabad\n",
      "Departure city: book\n",
      "Date of departure: 14th\n",
      "Return date: 17th\n",
      "Number of kids: two\n",
      "Number of adults: 1\n"
     ]
    }
   ],
   "source": [
    "import spacy\n",
    "\n",
    "nlp = spacy.load(\"en_core_web_sm\")\n",
    "\n",
    "text = \"I want to book airline tickets from Islamabad to Lahore on 14th July and get back on 17th July, i have two kids and 1 adult.\"\n",
    "\n",
    "doc = nlp(text)\n",
    "\n",
    "# Origin city name\n",
    "origin_city = None\n",
    "for token in doc:\n",
    "    if token.text.lower() == \"from\":\n",
    "        origin_city = token.nbor(1).text\n",
    "        break\n",
    "\n",
    "# Departure city name\n",
    "destination_city = None\n",
    "for token in doc:\n",
    "    if token.text.lower() == \"to\":\n",
    "        destination_city = token.nbor(1).text\n",
    "        break\n",
    "\n",
    "# Date of departure and return date\n",
    "departure_date = None\n",
    "return_date = None\n",
    "for i, token in enumerate(doc):\n",
    "    if token.text.lower() == \"on\":\n",
    "        if departure_date is None:\n",
    "            departure_date = doc[i+1].text\n",
    "        else:\n",
    "            return_date = doc[i+1].text\n",
    "            break\n",
    "\n",
    "# Number of kids and adults\n",
    "num_kids = None\n",
    "num_adults = None\n",
    "for i, token in enumerate(doc):\n",
    "    if token.text.lower() == \"kids\":\n",
    "        num_kids = (doc[i-1].text)\n",
    "    elif token.text.lower() == \"adult\":\n",
    "        num_adults = (doc[i-1].text)\n",
    "\n",
    "print(\"Origin city:\", origin_city)\n",
    "print(\"Departure city:\", destination_city)\n",
    "print(\"Date of departure:\", departure_date)\n",
    "print(\"Return date:\", return_date)\n",
    "print(\"Number of kids:\", num_kids)\n",
    "print(\"Number of adults:\", num_adults)"
   ]
  },
  {
   "cell_type": "code",
   "execution_count": 5,
   "metadata": {},
   "outputs": [
    {
     "ename": "NameError",
     "evalue": "name 'df' is not defined",
     "output_type": "error",
     "traceback": [
      "\u001b[1;31m---------------------------------------------------------------------------\u001b[0m",
      "\u001b[1;31mNameError\u001b[0m                                 Traceback (most recent call last)",
      "\u001b[1;32m~\\AppData\\Local\\Temp\\ipykernel_9088\\1396537375.py\u001b[0m in \u001b[0;36m<module>\u001b[1;34m\u001b[0m\n\u001b[1;32m----> 1\u001b[1;33m \u001b[0mdf\u001b[0m\u001b[1;33m\u001b[0m\u001b[1;33m\u001b[0m\u001b[0m\n\u001b[0m",
      "\u001b[1;31mNameError\u001b[0m: name 'df' is not defined"
     ]
    }
   ],
   "source": [
    "df"
   ]
  },
  {
   "cell_type": "code",
   "execution_count": 37,
   "metadata": {},
   "outputs": [],
   "source": [
    "import win32gui\n",
    "windows=[]\n",
    "def winEnumHandler( hwnd, ctx ):\n",
    "    if win32gui.IsWindowVisible( hwnd ):\n",
    "        windows.append(win32gui.GetWindowText(hwnd))\n",
    "win32gui.EnumWindows( winEnumHandler, None )"
   ]
  },
  {
   "cell_type": "code",
   "execution_count": 38,
   "metadata": {},
   "outputs": [],
   "source": [
    "window_name=[x for x in windows if 'Telegram' in x ][0]"
   ]
  },
  {
   "cell_type": "code",
   "execution_count": 39,
   "metadata": {},
   "outputs": [
    {
     "data": {
      "text/plain": [
       "'Telegram (280)'"
      ]
     },
     "execution_count": 39,
     "metadata": {},
     "output_type": "execute_result"
    }
   ],
   "source": [
    "window_name"
   ]
  },
  {
   "cell_type": "code",
   "execution_count": null,
   "metadata": {},
   "outputs": [],
   "source": []
  }
 ],
 "metadata": {
  "kernelspec": {
   "display_name": "p_37",
   "language": "python",
   "name": "python3"
  },
  "language_info": {
   "codemirror_mode": {
    "name": "ipython",
    "version": 3
   },
   "file_extension": ".py",
   "mimetype": "text/x-python",
   "name": "python",
   "nbconvert_exporter": "python",
   "pygments_lexer": "ipython3",
   "version": "3.7.16"
  },
  "orig_nbformat": 4
 },
 "nbformat": 4,
 "nbformat_minor": 2
}
