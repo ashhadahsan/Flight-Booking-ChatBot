{
 "cells": [
  {
   "cell_type": "code",
   "execution_count": 11,
   "metadata": {},
   "outputs": [],
   "source": [
    "import yaml\n",
    "\n",
    "# Load the nlu YAML file\n",
    "with open('nlu.yml') as f:\n",
    "    nlu_data = yaml.safe_load(f)\n",
    "\n",
    "# Extract the examples for each intent\n",
    "nlu_examples = {}\n",
    "for intent in nlu_data['nlu']:\n",
    "    if 'examples' in intent:\n",
    "        nlu_examples[intent['intent']] = intent['examples'].split('\\n- ')[1:]\n",
    "\n",
    "# Convert the examples to tuples for ChatterBot\n",
    "nlu_tuples = []\n",
    "for intent, examples in nlu_examples.items():\n",
    "    for example in examples:\n",
    "        nlu_tuples.append((example, intent))\n",
    "\n",
    "# Load the stories YAML file\n",
    "with open('stories.yml') as f:\n",
    "    stories_data = yaml.safe_load(f)\n",
    "\n",
    "# Convert the stories to tuples for ChatterBot\n",
    "stories_tuples = []\n",
    "for story in stories_data['stories']:\n",
    "    steps = []\n",
    "    for step in story['steps']:\n",
    "        if 'intent' in step:\n",
    "            steps.append((step['intent'], step.get('entities', {})))\n",
    "    stories_tuples.append(steps)\n"
   ]
  },
  {
   "cell_type": "code",
   "execution_count": 24,
   "metadata": {},
   "outputs": [
    {
     "name": "stdout",
     "output_type": "stream",
     "text": [
      "result2:\n",
      "{   'alternative': [{'confidence': 0.88687539, 'transcript': 'hello'}],\n",
      "    'final': True}\n"
     ]
    }
   ],
   "source": [
    "import speech_recognition as sr\n",
    "from constants import *\n",
    "r = sr.Recognizer()\n",
    "r.energy_threshold = energy\n",
    "r.pause_threshold = pause\n",
    "r.dynamic_energy_threshold = dynamic_energy\n",
    "with sr.AudioFile('a2d27928-c34c-11ed-be1b-ace2d37d5b45.wav') as source:\n",
    "    audio_data = r.record(source)\n",
    "text = r.recognize_google(audio_data)"
   ]
  },
  {
   "cell_type": "code",
   "execution_count": 6,
   "metadata": {},
   "outputs": [
    {
     "name": "stdout",
     "output_type": "stream",
     "text": [
      "Bot: Hello user, welcome to infinite possibilities. How can I help you today?\n"
     ]
    }
   ],
   "source": [
    "user_input = \"Hi\"\n",
    "bot_response = bot.get_response(user_input)\n",
    "print(\"Bot:\", bot_response)"
   ]
  },
  {
   "cell_type": "code",
   "execution_count": 5,
   "metadata": {},
   "outputs": [],
   "source": [
    "from chatterbot import ChatBot\n",
    "from training import *\n",
    "from chatterbot.trainers import ListTrainer\n",
    "\n",
    "def load_booking_chatbot():\n",
    "    bot = ChatBot(\"BookingBot\")\n",
    "\n",
    "    # Create a ChatterBotCorpusTrainer for greetings and goodbyes\n",
    "    corpus_trainer = ListTrainer(bot)\n",
    "    corpus_trainer.train(greetings)\n",
    "    return bot\n"
   ]
  },
  {
   "cell_type": "code",
   "execution_count": 7,
   "metadata": {},
   "outputs": [
    {
     "name": "stdout",
     "output_type": "stream",
     "text": [
      "List Trainer: [####################] 100%\n"
     ]
    }
   ],
   "source": [
    "bot=load_booking_chatbot()\n",
    "f=bot.get_response(\"hello\")"
   ]
  },
  {
   "cell_type": "code",
   "execution_count": 12,
   "metadata": {},
   "outputs": [],
   "source": [
    "from gtts import gTTS\n",
    "response = 'Hello'\n",
    "language = \"en-us\"\n",
    "\n",
    "tts = gTTS(text=response, lang=language, slow=False)"
   ]
  },
  {
   "cell_type": "code",
   "execution_count": 19,
   "metadata": {},
   "outputs": [],
   "source": [
    "tts.save(\"hello.mp3\")"
   ]
  },
  {
   "cell_type": "code",
   "execution_count": 7,
   "metadata": {},
   "outputs": [],
   "source": [
    "import requests\n",
    "\n",
    "# Open the audio file\n",
    "\n",
    "\n",
    "files = {'audio': ('hello.mp3', open('hello.mp3', 'rb'), 'audio/mp3'),\n",
    "         }\n",
    "data={\"username\":\"usernamee\",\"current_location\":\"loca\"}\n",
    "# Send the audio file to the chatbot endpoint\n",
    "response = requests.post(\"http://localhost:8000/api/bookingChat\", files=files,data=data)\n",
    "\n",
    "# Print the JSON response\n",
    "print(response.json())"
   ]
  },
  {
   "cell_type": "code",
   "execution_count": 4,
   "metadata": {},
   "outputs": [
    {
     "data": {
      "text/plain": [
       "{}"
      ]
     },
     "execution_count": 4,
     "metadata": {},
     "output_type": "execute_result"
    }
   ],
   "source": [
    "response.links"
   ]
  },
  {
   "cell_type": "code",
   "execution_count": null,
   "metadata": {},
   "outputs": [],
   "source": []
  }
 ],
 "metadata": {
  "kernelspec": {
   "display_name": "p_37",
   "language": "python",
   "name": "python3"
  },
  "language_info": {
   "codemirror_mode": {
    "name": "ipython",
    "version": 3
   },
   "file_extension": ".py",
   "mimetype": "text/x-python",
   "name": "python",
   "nbconvert_exporter": "python",
   "pygments_lexer": "ipython3",
   "version": "3.7.16"
  },
  "orig_nbformat": 4
 },
 "nbformat": 4,
 "nbformat_minor": 2
}
